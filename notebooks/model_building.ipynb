{
 "cells": [
  {
   "cell_type": "code",
   "execution_count": 1,
   "id": "1058b1da-65ab-40c3-8d1e-b2a26a6f3f40",
   "metadata": {
    "tags": []
   },
   "outputs": [],
   "source": [
    "import pandas as pd\n",
    "import numpy as np\n",
    "import seaborn as sns\n",
    "import matplotlib.pyplot as plt\n",
    "import statsmodels.api as sm\n",
    "from scipy import stats"
   ]
  },
  {
   "cell_type": "code",
   "execution_count": 2,
   "id": "ad77fd9c-372a-443b-954b-7f754ee9a0a8",
   "metadata": {},
   "outputs": [
    {
     "name": "stdout",
     "output_type": "stream",
     "text": [
      "<class 'pandas.core.frame.DataFrame'>\n",
      "RangeIndex: 158 entries, 0 to 157\n",
      "Data columns (total 34 columns):\n",
      " #   Column                                                          Non-Null Count  Dtype  \n",
      "---  ------                                                          --------------  -----  \n",
      " 0   NBHDNo                                                          158 non-null    int64  \n",
      " 1   NBHDName                                                        158 non-null    object \n",
      " 2   TSNS 2020 Designation                                           158 non-null    object \n",
      " 3   Median total income of private household in 2020 ($)            158 non-null    int64  \n",
      " 4   Median total income of economic family in 2020 ($)              158 non-null    int64  \n",
      " 5   Participation rate                                              158 non-null    float64\n",
      " 6   Employment rate                                                 158 non-null    float64\n",
      " 7   Unemployment rate                                               158 non-null    float64\n",
      " 8   No certificate, diploma or degree (%)                           158 non-null    float64\n",
      " 9   High (secondary) school diploma or equivalency certificate (%)  158 non-null    float64\n",
      " 10  Postsecondary certificate, diploma or degree (%)                158 non-null    float64\n",
      " 11  No_of_Branches                                                  158 non-null    int64  \n",
      " 12  No_of_Workstations                                              158 non-null    int64  \n",
      " 13  No_of_Programs                                                  158 non-null    int64  \n",
      " 14  visits_2015                                                     158 non-null    int64  \n",
      " 15  visits_2016                                                     158 non-null    int64  \n",
      " 16  visits_2017                                                     158 non-null    int64  \n",
      " 17  visits_2018                                                     158 non-null    int64  \n",
      " 18  visits_2019                                                     158 non-null    int64  \n",
      " 19  reg_2015                                                        158 non-null    int64  \n",
      " 20  reg_2016                                                        158 non-null    int64  \n",
      " 21  reg_2017                                                        158 non-null    int64  \n",
      " 22  reg_2018                                                        158 non-null    int64  \n",
      " 23  reg_2019                                                        158 non-null    int64  \n",
      " 24  circ_2015                                                       158 non-null    int64  \n",
      " 25  circ_2016                                                       158 non-null    int64  \n",
      " 26  circ_2017                                                       158 non-null    int64  \n",
      " 27  circ_2018                                                       158 non-null    int64  \n",
      " 28  circ_2019                                                       158 non-null    int64  \n",
      " 29  wrkstn_use_2015                                                 158 non-null    int64  \n",
      " 30  wrkstn_use_2016                                                 158 non-null    int64  \n",
      " 31  wrkstn_use_2017                                                 158 non-null    int64  \n",
      " 32  wrkstn_use_2018                                                 158 non-null    int64  \n",
      " 33  wrkstn_use_2019                                                 158 non-null    int64  \n",
      "dtypes: float64(6), int64(26), object(2)\n",
      "memory usage: 42.1+ KB\n"
     ]
    }
   ],
   "source": [
    "nbhd_overview = pd.read_csv('../regression_data/cleaned_files/nbhd_overview_stats_2015_2019.csv')\n",
    "\n",
    "nbhd_overview.info()"
   ]
  },
  {
   "cell_type": "code",
   "execution_count": 3,
   "id": "05829fba-36aa-402c-b771-0902d4f02448",
   "metadata": {
    "tags": []
   },
   "outputs": [
    {
     "name": "stdout",
     "output_type": "stream",
     "text": [
      "<class 'pandas.core.frame.DataFrame'>\n",
      "RangeIndex: 158 entries, 0 to 157\n",
      "Data columns (total 48 columns):\n",
      " #   Column                 Non-Null Count  Dtype  \n",
      "---  ------                 --------------  -----  \n",
      " 0   NBHDName               158 non-null    object \n",
      " 1   NBHDNo                 158 non-null    int64  \n",
      " 2   POPULATION_2023        158 non-null    int64  \n",
      " 3   ASSAULT_RATE_2015      158 non-null    float64\n",
      " 4   ASSAULT_RATE_2016      158 non-null    float64\n",
      " 5   ASSAULT_RATE_2017      158 non-null    float64\n",
      " 6   ASSAULT_RATE_2018      158 non-null    float64\n",
      " 7   ASSAULT_RATE_2019      158 non-null    float64\n",
      " 8   AUTOTHEFT_RATE_2015    158 non-null    float64\n",
      " 9   AUTOTHEFT_RATE_2016    158 non-null    float64\n",
      " 10  AUTOTHEFT_RATE_2017    158 non-null    float64\n",
      " 11  AUTOTHEFT_RATE_2018    158 non-null    float64\n",
      " 12  AUTOTHEFT_RATE_2019    158 non-null    float64\n",
      " 13  BIKETHEFT_RATE_2015    158 non-null    float64\n",
      " 14  BIKETHEFT_RATE_2016    158 non-null    float64\n",
      " 15  BIKETHEFT_RATE_2017    158 non-null    float64\n",
      " 16  BIKETHEFT_RATE_2018    158 non-null    float64\n",
      " 17  BIKETHEFT_RATE_2019    158 non-null    float64\n",
      " 18  BREAKENTER_RATE_2015   158 non-null    float64\n",
      " 19  BREAKENTER_RATE_2016   158 non-null    float64\n",
      " 20  BREAKENTER_RATE_2017   158 non-null    float64\n",
      " 21  BREAKENTER_RATE_2018   158 non-null    float64\n",
      " 22  BREAKENTER_RATE_2019   158 non-null    float64\n",
      " 23  HOMICIDE_RATE_2015     158 non-null    float64\n",
      " 24  HOMICIDE_RATE_2016     158 non-null    float64\n",
      " 25  HOMICIDE_RATE_2017     158 non-null    float64\n",
      " 26  HOMICIDE_RATE_2018     158 non-null    float64\n",
      " 27  HOMICIDE_RATE_2019     158 non-null    float64\n",
      " 28  ROBBERY_RATE_2015      158 non-null    float64\n",
      " 29  ROBBERY_RATE_2016      158 non-null    float64\n",
      " 30  ROBBERY_RATE_2017      158 non-null    float64\n",
      " 31  ROBBERY_RATE_2018      158 non-null    float64\n",
      " 32  ROBBERY_RATE_2019      158 non-null    float64\n",
      " 33  SHOOTING_RATE_2015     158 non-null    float64\n",
      " 34  SHOOTING_RATE_2016     158 non-null    float64\n",
      " 35  SHOOTING_RATE_2017     158 non-null    float64\n",
      " 36  SHOOTING_RATE_2018     158 non-null    float64\n",
      " 37  SHOOTING_RATE_2019     158 non-null    float64\n",
      " 38  THEFTFROMMV_RATE_2015  158 non-null    float64\n",
      " 39  THEFTFROMMV_RATE_2016  158 non-null    float64\n",
      " 40  THEFTFROMMV_RATE_2017  158 non-null    float64\n",
      " 41  THEFTFROMMV_RATE_2018  158 non-null    float64\n",
      " 42  THEFTFROMMV_RATE_2019  158 non-null    float64\n",
      " 43  THEFTOVER_RATE_2015    158 non-null    float64\n",
      " 44  THEFTOVER_RATE_2016    158 non-null    float64\n",
      " 45  THEFTOVER_RATE_2017    158 non-null    float64\n",
      " 46  THEFTOVER_RATE_2018    158 non-null    float64\n",
      " 47  THEFTOVER_RATE_2019    158 non-null    float64\n",
      "dtypes: float64(45), int64(2), object(1)\n",
      "memory usage: 59.4+ KB\n"
     ]
    }
   ],
   "source": [
    "nbhd_crime_2015_2019 = pd.read_csv('../regression_data/cleaned_files/nbhd_crime_stats_2015_2019.csv')\n",
    "\n",
    "nbhd_crime_2015_2019.info()"
   ]
  },
  {
   "cell_type": "code",
   "execution_count": 4,
   "id": "fa445540-29d3-437b-9ccf-2002a52c96cd",
   "metadata": {
    "tags": []
   },
   "outputs": [
    {
     "name": "stdout",
     "output_type": "stream",
     "text": [
      "<class 'pandas.core.frame.DataFrame'>\n",
      "RangeIndex: 158 entries, 0 to 157\n",
      "Data columns (total 25 columns):\n",
      " #   Column                                                          Non-Null Count  Dtype  \n",
      "---  ------                                                          --------------  -----  \n",
      " 0   NBHDNo                                                          158 non-null    int64  \n",
      " 1   Median total income of private household in 2020 ($)            158 non-null    int64  \n",
      " 2   Median total income of economic family in 2020 ($)              158 non-null    int64  \n",
      " 3   Participation rate                                              158 non-null    float64\n",
      " 4   Employment rate                                                 158 non-null    float64\n",
      " 5   Unemployment rate                                               158 non-null    float64\n",
      " 6   No certificate, diploma or degree (%)                           158 non-null    float64\n",
      " 7   High (secondary) school diploma or equivalency certificate (%)  158 non-null    float64\n",
      " 8   Postsecondary certificate, diploma or degree (%)                158 non-null    float64\n",
      " 9   No_of_Branches                                                  158 non-null    int64  \n",
      " 10  No_of_Workstations                                              158 non-null    int64  \n",
      " 11  No_of_Programs                                                  158 non-null    int64  \n",
      " 12  visits_2019                                                     158 non-null    int64  \n",
      " 13  reg_2019                                                        158 non-null    int64  \n",
      " 14  circ_2019                                                       158 non-null    int64  \n",
      " 15  wrkstn_use_2019                                                 158 non-null    int64  \n",
      " 16  ASSAULT_RATE_2019                                               158 non-null    float64\n",
      " 17  AUTOTHEFT_RATE_2019                                             158 non-null    float64\n",
      " 18  BIKETHEFT_RATE_2019                                             158 non-null    float64\n",
      " 19  BREAKENTER_RATE_2019                                            158 non-null    float64\n",
      " 20  HOMICIDE_RATE_2019                                              158 non-null    float64\n",
      " 21  ROBBERY_RATE_2019                                               158 non-null    float64\n",
      " 22  SHOOTING_RATE_2019                                              158 non-null    float64\n",
      " 23  THEFTFROMMV_RATE_2019                                           158 non-null    float64\n",
      " 24  THEFTOVER_RATE_2019                                             158 non-null    float64\n",
      "dtypes: float64(15), int64(10)\n",
      "memory usage: 31.0 KB\n"
     ]
    }
   ],
   "source": [
    "libr_2019 = nbhd_overview[['NBHDNo', 'NBHDName','TSNS 2020 Designation','Median total income of private household in 2020 ($)', 'Median total income of economic family in 2020 ($)', 'Participation rate', 'Employment rate',\n",
    "                                   'Unemployment rate', 'No certificate, diploma or degree (%)', 'High (secondary) school diploma or equivalency certificate (%)', 'Postsecondary certificate, diploma or degree (%)', 'No_of_Branches',\n",
    "                                'No_of_Workstations', 'No_of_Programs', 'visits_2019', 'reg_2019', 'circ_2019', 'wrkstn_use_2019']].copy()\n",
    "\n",
    "crime_2019 = nbhd_crime_2015_2019[['NBHDNo', 'ASSAULT_RATE_2019', 'AUTOTHEFT_RATE_2019', 'BIKETHEFT_RATE_2019', 'BREAKENTER_RATE_2019', 'HOMICIDE_RATE_2019', 'ROBBERY_RATE_2019', 'SHOOTING_RATE_2019', 'THEFTFROMMV_RATE_2019', 'THEFTOVER_RATE_2019']].copy()\n",
    "\n",
    "nbhd_libr_crime_2019 = pd.merge(libr_2019, crime_2019, on='NBHDNo')\n",
    "\n",
    "nbhd_libr_crime_2019 = nbhd_libr_crime_2019.drop(['NBHDName','TSNS 2020 Designation'], axis=1)\n",
    "\n",
    "nbhd_libr_crime_2019.info()"
   ]
  },
  {
   "cell_type": "markdown",
   "id": "b9a54a8e-e8a6-4ede-8257-f59451c185ef",
   "metadata": {},
   "source": [
    "### Building model with backward selection"
   ]
  },
  {
   "cell_type": "code",
   "execution_count": 5,
   "id": "b020c272-02a4-4e4c-9c8b-6211ed178744",
   "metadata": {
    "tags": []
   },
   "outputs": [],
   "source": [
    "model_2019 = nbhd_libr_crime_2019.copy()"
   ]
  },
  {
   "cell_type": "code",
   "execution_count": 6,
   "id": "49919adb-3f03-4945-9757-dc09bc4bda62",
   "metadata": {
    "tags": []
   },
   "outputs": [
    {
     "name": "stdout",
     "output_type": "stream",
     "text": [
      "                            OLS Regression Results                            \n",
      "==============================================================================\n",
      "Dep. Variable:            visits_2019   R-squared:                       0.964\n",
      "Model:                            OLS   Adj. R-squared:                  0.958\n",
      "Method:                 Least Squares   F-statistic:                     149.3\n",
      "Date:                Sun, 28 Jan 2024   Prob (F-statistic):           3.30e-84\n",
      "Time:                        02:02:40   Log-Likelihood:                -1888.5\n",
      "No. Observations:                 158   AIC:                             3827.\n",
      "Df Residuals:                     133   BIC:                             3904.\n",
      "Df Model:                          24                                         \n",
      "Covariance Type:            nonrobust                                         \n",
      "==================================================================================================================================\n",
      "                                                                     coef    std err          t      P>|t|      [0.025      0.975]\n",
      "----------------------------------------------------------------------------------------------------------------------------------\n",
      "const                                                          -8.831e+06   9.97e+06     -0.886      0.377   -2.86e+07    1.09e+07\n",
      "NBHDNo                                                            56.3289     79.381      0.710      0.479    -100.684     213.342\n",
      "Median total income of private household in 2020 ($)              -0.4053      0.414     -0.978      0.330      -1.225       0.414\n",
      "Median total income of economic family in 2020 ($)                 0.3792      0.335      1.131      0.260      -0.284       1.042\n",
      "Participation rate                                              7292.4261   1.45e+04      0.502      0.616   -2.14e+04     3.6e+04\n",
      "Employment rate                                                -8992.8955   1.66e+04     -0.540      0.590   -4.19e+04    2.39e+04\n",
      "Unemployment rate                                              -5594.6949   1.07e+04     -0.522      0.602   -2.68e+04    1.56e+04\n",
      "No certificate, diploma or degree (%)                            8.79e+04   9.99e+04      0.880      0.380    -1.1e+05    2.85e+05\n",
      "High (secondary) school diploma or equivalency certificate (%)  8.966e+04      1e+05      0.897      0.371   -1.08e+05    2.87e+05\n",
      "Postsecondary certificate, diploma or degree (%)                8.936e+04   9.98e+04      0.895      0.372   -1.08e+05    2.87e+05\n",
      "No_of_Branches                                                    1.7e+04   9095.190      1.869      0.064    -989.380     3.5e+04\n",
      "No_of_Workstations                                               646.9969    769.623      0.841      0.402    -875.287    2169.281\n",
      "No_of_Programs                                                 -5844.9246   3330.881     -1.755      0.082   -1.24e+04     743.429\n",
      "reg_2019                                                          -3.9235      5.783     -0.678      0.499     -15.363       7.516\n",
      "circ_2019                                                          0.1052      0.052      2.006      0.047       0.001       0.209\n",
      "wrkstn_use_2019                                                    3.5234      0.440      8.002      0.000       2.652       4.394\n",
      "ASSAULT_RATE_2019                                                 17.6186     17.353      1.015      0.312     -16.705      51.942\n",
      "AUTOTHEFT_RATE_2019                                               38.8753     32.603      1.192      0.235     -25.612     103.363\n",
      "BIKETHEFT_RATE_2019                                              -40.7401     40.785     -0.999      0.320    -121.411      39.931\n",
      "BREAKENTER_RATE_2019                                              37.4594     31.835      1.177      0.241     -25.509     100.428\n",
      "HOMICIDE_RATE_2019                                              -510.7267    845.206     -0.604      0.547   -2182.512    1161.058\n",
      "ROBBERY_RATE_2019                                                -52.9250     66.114     -0.801      0.425    -183.696      77.846\n",
      "SHOOTING_RATE_2019                                              -212.1419    229.587     -0.924      0.357    -666.257     241.973\n",
      "THEFTFROMMV_RATE_2019                                            -36.7792     28.686     -1.282      0.202     -93.518      19.960\n",
      "THEFTOVER_RATE_2019                                               34.4131    128.540      0.268      0.789    -219.834     288.660\n",
      "==============================================================================\n",
      "Omnibus:                       76.435   Durbin-Watson:                   2.045\n",
      "Prob(Omnibus):                  0.000   Jarque-Bera (JB):              626.110\n",
      "Skew:                           1.518   Prob(JB):                    1.10e-136\n",
      "Kurtosis:                      12.268   Cond. No.                     7.76e+08\n",
      "==============================================================================\n",
      "\n",
      "Notes:\n",
      "[1] Standard Errors assume that the covariance matrix of the errors is correctly specified.\n",
      "[2] The condition number is large, 7.76e+08. This might indicate that there are\n",
      "strong multicollinearity or other numerical problems.\n"
     ]
    }
   ],
   "source": [
    "y = model_2019['visits_2019']\n",
    "X = model_2019.drop(['visits_2019'], axis=1)\n",
    "X = sm.add_constant(X)\n",
    "\n",
    "model_visits_2019 = sm.OLS(y.astype(float), X.astype(float))\n",
    "results_2019 = model_visits_2019.fit()\n",
    "print(results_2019.summary())"
   ]
  },
  {
   "cell_type": "code",
   "execution_count": 7,
   "id": "cd594d2a-613a-4e01-bc70-fb1956a8e150",
   "metadata": {
    "tags": []
   },
   "outputs": [
    {
     "name": "stdout",
     "output_type": "stream",
     "text": [
      "                            OLS Regression Results                            \n",
      "==============================================================================\n",
      "Dep. Variable:            visits_2019   R-squared:                       0.964\n",
      "Model:                            OLS   Adj. R-squared:                  0.958\n",
      "Method:                 Least Squares   F-statistic:                     156.8\n",
      "Date:                Sun, 28 Jan 2024   Prob (F-statistic):           2.69e-85\n",
      "Time:                        02:06:56   Log-Likelihood:                -1888.5\n",
      "No. Observations:                 158   AIC:                             3825.\n",
      "Df Residuals:                     134   BIC:                             3899.\n",
      "Df Model:                          23                                         \n",
      "Covariance Type:            nonrobust                                         \n",
      "==================================================================================================================================\n",
      "                                                                     coef    std err          t      P>|t|      [0.025      0.975]\n",
      "----------------------------------------------------------------------------------------------------------------------------------\n",
      "const                                                          -8.861e+06   9.94e+06     -0.892      0.374   -2.85e+07    1.08e+07\n",
      "NBHDNo                                                            54.2560     78.728      0.689      0.492    -101.455     209.967\n",
      "Median total income of private household in 2020 ($)              -0.3918      0.410     -0.956      0.341      -1.203       0.419\n",
      "Median total income of economic family in 2020 ($)                 0.3659      0.330      1.108      0.270      -0.287       1.019\n",
      "Participation rate                                              7440.5560   1.45e+04      0.514      0.608   -2.12e+04     3.6e+04\n",
      "Employment rate                                                -9206.0540   1.66e+04     -0.555      0.579    -4.2e+04    2.36e+04\n",
      "Unemployment rate                                              -5731.7023   1.07e+04     -0.538      0.592   -2.68e+04    1.53e+04\n",
      "No certificate, diploma or degree (%)                           8.828e+04   9.95e+04      0.887      0.377   -1.09e+05    2.85e+05\n",
      "High (secondary) school diploma or equivalency certificate (%)   8.99e+04   9.96e+04      0.902      0.368   -1.07e+05    2.87e+05\n",
      "Postsecondary certificate, diploma or degree (%)                8.973e+04   9.95e+04      0.902      0.369   -1.07e+05    2.86e+05\n",
      "No_of_Branches                                                  1.709e+04   9057.757      1.887      0.061    -826.457     3.5e+04\n",
      "No_of_Workstations                                               618.2740    759.464      0.814      0.417    -883.813    2120.361\n",
      "No_of_Programs                                                 -5962.3614   3290.414     -1.812      0.072   -1.25e+04     545.505\n",
      "reg_2019                                                          -3.9078      5.763     -0.678      0.499     -15.306       7.490\n",
      "circ_2019                                                          0.1059      0.052      2.030      0.044       0.003       0.209\n",
      "wrkstn_use_2019                                                    3.5369      0.436      8.113      0.000       2.675       4.399\n",
      "ASSAULT_RATE_2019                                                 19.2044     16.254      1.182      0.239     -12.944      51.352\n",
      "AUTOTHEFT_RATE_2019                                               42.7321     29.146      1.466      0.145     -14.914     100.378\n",
      "BIKETHEFT_RATE_2019                                              -38.2424     39.566     -0.967      0.336    -116.497      40.012\n",
      "BREAKENTER_RATE_2019                                              36.4757     31.513      1.157      0.249     -25.851      98.802\n",
      "HOMICIDE_RATE_2019                                              -491.2051    839.133     -0.585      0.559   -2150.864    1168.454\n",
      "ROBBERY_RATE_2019                                                -57.0083     64.107     -0.889      0.375    -183.802      69.785\n",
      "SHOOTING_RATE_2019                                              -205.7367    227.545     -0.904      0.368    -655.781     244.308\n",
      "THEFTFROMMV_RATE_2019                                            -35.8368     28.370     -1.263      0.209     -91.948      20.274\n",
      "==============================================================================\n",
      "Omnibus:                       75.359   Durbin-Watson:                   2.040\n",
      "Prob(Omnibus):                  0.000   Jarque-Bera (JB):              603.836\n",
      "Skew:                           1.498   Prob(JB):                    7.56e-132\n",
      "Kurtosis:                      12.096   Cond. No.                     7.75e+08\n",
      "==============================================================================\n",
      "\n",
      "Notes:\n",
      "[1] Standard Errors assume that the covariance matrix of the errors is correctly specified.\n",
      "[2] The condition number is large, 7.75e+08. This might indicate that there are\n",
      "strong multicollinearity or other numerical problems.\n"
     ]
    }
   ],
   "source": [
    "y = model_2019['visits_2019']\n",
    "X = model_2019.drop(['visits_2019', 'THEFTOVER_RATE_2019'], axis=1)\n",
    "X = sm.add_constant(X)\n",
    "\n",
    "model_visits_2019 = sm.OLS(y.astype(float), X.astype(float))\n",
    "results_2019 = model_visits_2019.fit()\n",
    "print(results_2019.summary())"
   ]
  },
  {
   "cell_type": "code",
   "execution_count": 8,
   "id": "1243b48f-22c9-4fa2-96fd-07fd1f729be5",
   "metadata": {
    "tags": []
   },
   "outputs": [
    {
     "name": "stdout",
     "output_type": "stream",
     "text": [
      "                            OLS Regression Results                            \n",
      "==============================================================================\n",
      "Dep. Variable:            visits_2019   R-squared:                       0.964\n",
      "Model:                            OLS   Adj. R-squared:                  0.958\n",
      "Method:                 Least Squares   F-statistic:                     164.9\n",
      "Date:                Sun, 28 Jan 2024   Prob (F-statistic):           2.36e-86\n",
      "Time:                        02:08:06   Log-Likelihood:                -1888.7\n",
      "No. Observations:                 158   AIC:                             3823.\n",
      "Df Residuals:                     135   BIC:                             3894.\n",
      "Df Model:                          22                                         \n",
      "Covariance Type:            nonrobust                                         \n",
      "==================================================================================================================================\n",
      "                                                                     coef    std err          t      P>|t|      [0.025      0.975]\n",
      "----------------------------------------------------------------------------------------------------------------------------------\n",
      "const                                                          -8.736e+06   9.91e+06     -0.882      0.379   -2.83e+07    1.09e+07\n",
      "NBHDNo                                                            45.3657     76.598      0.592      0.555    -106.122     196.854\n",
      "Median total income of private household in 2020 ($)              -0.3940      0.409     -0.964      0.337      -1.202       0.414\n",
      "Median total income of economic family in 2020 ($)                 0.3684      0.329      1.119      0.265      -0.283       1.020\n",
      "Employment rate                                                 -700.8224   1124.136     -0.623      0.534   -2924.018    1522.373\n",
      "Unemployment rate                                               -476.3785   3029.513     -0.157      0.875   -6467.824    5515.067\n",
      "No certificate, diploma or degree (%)                           8.629e+04   9.92e+04      0.870      0.386    -1.1e+05    2.82e+05\n",
      "High (secondary) school diploma or equivalency certificate (%)  8.804e+04   9.93e+04      0.887      0.377   -1.08e+05    2.84e+05\n",
      "Postsecondary certificate, diploma or degree (%)                8.781e+04   9.91e+04      0.886      0.377   -1.08e+05    2.84e+05\n",
      "No_of_Branches                                                  1.708e+04   9033.048      1.891      0.061    -781.072    3.49e+04\n",
      "No_of_Workstations                                               641.1084    756.098      0.848      0.398    -854.220    2136.437\n",
      "No_of_Programs                                                 -6002.9137   3280.498     -1.830      0.069   -1.25e+04     484.902\n",
      "reg_2019                                                          -4.1617      5.726     -0.727      0.469     -15.486       7.163\n",
      "circ_2019                                                          0.1068      0.052      2.055      0.042       0.004       0.210\n",
      "wrkstn_use_2019                                                    3.5378      0.435      8.138      0.000       2.678       4.398\n",
      "ASSAULT_RATE_2019                                                 20.2537     16.082      1.259      0.210     -11.551      52.058\n",
      "AUTOTHEFT_RATE_2019                                               41.3180     28.937      1.428      0.156     -15.911      98.547\n",
      "BIKETHEFT_RATE_2019                                              -41.7698     38.861     -1.075      0.284    -118.624      35.085\n",
      "BREAKENTER_RATE_2019                                              37.5097     31.363      1.196      0.234     -24.516      99.536\n",
      "HOMICIDE_RATE_2019                                              -412.2466    822.724     -0.501      0.617   -2039.342    1214.849\n",
      "ROBBERY_RATE_2019                                                -57.9705     63.905     -0.907      0.366    -184.356      68.415\n",
      "SHOOTING_RATE_2019                                              -232.0199    221.129     -1.049      0.296    -669.346     205.306\n",
      "THEFTFROMMV_RATE_2019                                            -34.4564     28.166     -1.223      0.223     -90.160      21.247\n",
      "==============================================================================\n",
      "Omnibus:                       74.887   Durbin-Watson:                   2.047\n",
      "Prob(Omnibus):                  0.000   Jarque-Bera (JB):              601.843\n",
      "Skew:                           1.484   Prob(JB):                    2.05e-131\n",
      "Kurtosis:                      12.089   Cond. No.                     7.75e+08\n",
      "==============================================================================\n",
      "\n",
      "Notes:\n",
      "[1] Standard Errors assume that the covariance matrix of the errors is correctly specified.\n",
      "[2] The condition number is large, 7.75e+08. This might indicate that there are\n",
      "strong multicollinearity or other numerical problems.\n"
     ]
    }
   ],
   "source": [
    "y = model_2019['visits_2019']\n",
    "X = model_2019.drop(['visits_2019', 'THEFTOVER_RATE_2019', 'Participation rate'], axis=1)\n",
    "X = sm.add_constant(X)\n",
    "\n",
    "model_visits_2019 = sm.OLS(y.astype(float), X.astype(float))\n",
    "results_2019 = model_visits_2019.fit()\n",
    "print(results_2019.summary())"
   ]
  },
  {
   "cell_type": "code",
   "execution_count": 9,
   "id": "59e2c187-96c6-43fb-8ccf-ddef179daa41",
   "metadata": {
    "tags": []
   },
   "outputs": [
    {
     "name": "stdout",
     "output_type": "stream",
     "text": [
      "                            OLS Regression Results                            \n",
      "==============================================================================\n",
      "Dep. Variable:            visits_2019   R-squared:                       0.964\n",
      "Model:                            OLS   Adj. R-squared:                  0.959\n",
      "Method:                 Least Squares   F-statistic:                     173.9\n",
      "Date:                Sun, 28 Jan 2024   Prob (F-statistic):           1.79e-87\n",
      "Time:                        02:08:59   Log-Likelihood:                -1888.7\n",
      "No. Observations:                 158   AIC:                             3821.\n",
      "Df Residuals:                     136   BIC:                             3889.\n",
      "Df Model:                          21                                         \n",
      "Covariance Type:            nonrobust                                         \n",
      "==================================================================================================================================\n",
      "                                                                     coef    std err          t      P>|t|      [0.025      0.975]\n",
      "----------------------------------------------------------------------------------------------------------------------------------\n",
      "const                                                          -8.493e+06   9.75e+06     -0.871      0.385   -2.78e+07    1.08e+07\n",
      "NBHDNo                                                            44.2074     75.970      0.582      0.562    -106.027     194.442\n",
      "Median total income of private household in 2020 ($)              -0.3892      0.406     -0.958      0.340      -1.192       0.414\n",
      "Median total income of economic family in 2020 ($)                 0.3793      0.321      1.182      0.239      -0.255       1.014\n",
      "Employment rate                                                 -607.9381    952.997     -0.638      0.525   -2492.547    1276.671\n",
      "No certificate, diploma or degree (%)                           8.373e+04   9.75e+04      0.859      0.392   -1.09e+05    2.76e+05\n",
      "High (secondary) school diploma or equivalency certificate (%)  8.544e+04   9.75e+04      0.876      0.383   -1.07e+05    2.78e+05\n",
      "Postsecondary certificate, diploma or degree (%)                8.527e+04   9.74e+04      0.875      0.383   -1.07e+05    2.78e+05\n",
      "No_of_Branches                                                  1.695e+04   8962.576      1.892      0.061    -770.949    3.47e+04\n",
      "No_of_Workstations                                               659.6821    744.132      0.887      0.377    -811.883    2131.248\n",
      "No_of_Programs                                                 -6016.8089   3267.528     -1.841      0.068   -1.25e+04     444.927\n",
      "reg_2019                                                          -4.2030      5.700     -0.737      0.462     -15.474       7.068\n",
      "circ_2019                                                          0.1077      0.052      2.092      0.038       0.006       0.210\n",
      "wrkstn_use_2019                                                    3.5306      0.431      8.196      0.000       2.679       4.383\n",
      "ASSAULT_RATE_2019                                                 20.1601     16.013      1.259      0.210     -11.507      51.827\n",
      "AUTOTHEFT_RATE_2019                                               41.8749     28.617      1.463      0.146     -14.716      98.466\n",
      "BIKETHEFT_RATE_2019                                              -42.1577     38.643     -1.091      0.277    -118.577      34.261\n",
      "BREAKENTER_RATE_2019                                              36.9890     31.075      1.190      0.236     -24.465      98.443\n",
      "HOMICIDE_RATE_2019                                              -412.8006    819.761     -0.504      0.615   -2033.929    1208.328\n",
      "ROBBERY_RATE_2019                                                -58.3240     63.636     -0.917      0.361    -184.169      67.521\n",
      "SHOOTING_RATE_2019                                              -231.9978    220.335     -1.053      0.294    -667.724     203.728\n",
      "THEFTFROMMV_RATE_2019                                            -34.3904     28.062     -1.226      0.222     -89.884      21.103\n",
      "==============================================================================\n",
      "Omnibus:                       75.200   Durbin-Watson:                   2.049\n",
      "Prob(Omnibus):                  0.000   Jarque-Bera (JB):              612.235\n",
      "Skew:                           1.488   Prob(JB):                    1.13e-133\n",
      "Kurtosis:                      12.173   Cond. No.                     7.66e+08\n",
      "==============================================================================\n",
      "\n",
      "Notes:\n",
      "[1] Standard Errors assume that the covariance matrix of the errors is correctly specified.\n",
      "[2] The condition number is large, 7.66e+08. This might indicate that there are\n",
      "strong multicollinearity or other numerical problems.\n"
     ]
    }
   ],
   "source": [
    "y = model_2019['visits_2019']\n",
    "X = model_2019.drop(['visits_2019', 'THEFTOVER_RATE_2019', 'Participation rate', 'Unemployment rate'], axis=1)\n",
    "X = sm.add_constant(X)\n",
    "\n",
    "model_visits_2019 = sm.OLS(y.astype(float), X.astype(float))\n",
    "results_2019 = model_visits_2019.fit()\n",
    "print(results_2019.summary())"
   ]
  },
  {
   "cell_type": "code",
   "execution_count": 10,
   "id": "989384df-319f-4d26-b055-c1f3727f6b01",
   "metadata": {
    "tags": []
   },
   "outputs": [
    {
     "name": "stdout",
     "output_type": "stream",
     "text": [
      "                            OLS Regression Results                            \n",
      "==============================================================================\n",
      "Dep. Variable:            visits_2019   R-squared:                       0.964\n",
      "Model:                            OLS   Adj. R-squared:                  0.959\n",
      "Method:                 Least Squares   F-statistic:                     183.6\n",
      "Date:                Sun, 28 Jan 2024   Prob (F-statistic):           1.47e-88\n",
      "Time:                        02:09:54   Log-Likelihood:                -1888.9\n",
      "No. Observations:                 158   AIC:                             3820.\n",
      "Df Residuals:                     137   BIC:                             3884.\n",
      "Df Model:                          20                                         \n",
      "Covariance Type:            nonrobust                                         \n",
      "==================================================================================================================================\n",
      "                                                                     coef    std err          t      P>|t|      [0.025      0.975]\n",
      "----------------------------------------------------------------------------------------------------------------------------------\n",
      "const                                                          -8.286e+06   9.71e+06     -0.853      0.395   -2.75e+07    1.09e+07\n",
      "NBHDNo                                                            40.4520     75.396      0.537      0.592    -108.639     189.543\n",
      "Median total income of private household in 2020 ($)              -0.3695      0.403     -0.917      0.361      -1.167       0.428\n",
      "Median total income of economic family in 2020 ($)                 0.3692      0.319      1.156      0.250      -0.262       1.001\n",
      "Employment rate                                                 -574.8290    948.132     -0.606      0.545   -2449.695    1300.037\n",
      "No certificate, diploma or degree (%)                           8.164e+04   9.71e+04      0.841      0.402    -1.1e+05    2.74e+05\n",
      "High (secondary) school diploma or equivalency certificate (%)  8.334e+04   9.72e+04      0.857      0.393   -1.09e+05    2.76e+05\n",
      "Postsecondary certificate, diploma or degree (%)                8.318e+04   9.71e+04      0.857      0.393   -1.09e+05    2.75e+05\n",
      "No_of_Branches                                                  1.637e+04   8863.103      1.847      0.067   -1156.619    3.39e+04\n",
      "No_of_Workstations                                               647.0878    741.682      0.872      0.384    -819.538    2113.714\n",
      "No_of_Programs                                                 -6276.7669   3217.689     -1.951      0.053   -1.26e+04      85.991\n",
      "reg_2019                                                          -4.2080      5.684     -0.740      0.460     -15.448       7.032\n",
      "circ_2019                                                          0.1106      0.051      2.166      0.032       0.010       0.212\n",
      "wrkstn_use_2019                                                    3.5401      0.429      8.248      0.000       2.691       4.389\n",
      "ASSAULT_RATE_2019                                                 19.8246     15.955      1.242      0.216     -11.726      51.375\n",
      "AUTOTHEFT_RATE_2019                                               38.1868     27.588      1.384      0.169     -16.367      92.740\n",
      "BIKETHEFT_RATE_2019                                              -44.0752     38.350     -1.149      0.252    -119.910      31.759\n",
      "BREAKENTER_RATE_2019                                              36.3650     30.966      1.174      0.242     -24.868      97.598\n",
      "ROBBERY_RATE_2019                                                -58.9718     63.450     -0.929      0.354    -184.440      66.496\n",
      "SHOOTING_RATE_2019                                              -239.6668    219.208     -1.093      0.276    -673.136     193.803\n",
      "THEFTFROMMV_RATE_2019                                            -32.4292     27.714     -1.170      0.244     -87.232      22.374\n",
      "==============================================================================\n",
      "Omnibus:                       76.132   Durbin-Watson:                   2.035\n",
      "Prob(Omnibus):                  0.000   Jarque-Bera (JB):              622.117\n",
      "Skew:                           1.511   Prob(JB):                    8.11e-136\n",
      "Kurtosis:                      12.239   Cond. No.                     7.65e+08\n",
      "==============================================================================\n",
      "\n",
      "Notes:\n",
      "[1] Standard Errors assume that the covariance matrix of the errors is correctly specified.\n",
      "[2] The condition number is large, 7.65e+08. This might indicate that there are\n",
      "strong multicollinearity or other numerical problems.\n"
     ]
    }
   ],
   "source": [
    "y = model_2019['visits_2019']\n",
    "X = model_2019.drop(['visits_2019', 'THEFTOVER_RATE_2019', 'Participation rate', 'Unemployment rate', 'HOMICIDE_RATE_2019'], axis=1)\n",
    "X = sm.add_constant(X)\n",
    "\n",
    "model_visits_2019 = sm.OLS(y.astype(float), X.astype(float))\n",
    "results_2019 = model_visits_2019.fit()\n",
    "print(results_2019.summary())"
   ]
  },
  {
   "cell_type": "code",
   "execution_count": 11,
   "id": "d94dec2b-0f1e-49e5-874e-85f8a39fe0b5",
   "metadata": {
    "tags": []
   },
   "outputs": [
    {
     "name": "stdout",
     "output_type": "stream",
     "text": [
      "                            OLS Regression Results                            \n",
      "==============================================================================\n",
      "Dep. Variable:            visits_2019   R-squared:                       0.964\n",
      "Model:                            OLS   Adj. R-squared:                  0.959\n",
      "Method:                 Least Squares   F-statistic:                     193.5\n",
      "Date:                Sun, 28 Jan 2024   Prob (F-statistic):           1.58e-89\n",
      "Time:                        02:10:31   Log-Likelihood:                -1889.3\n",
      "No. Observations:                 158   AIC:                             3819.\n",
      "Df Residuals:                     138   BIC:                             3880.\n",
      "Df Model:                          19                                         \n",
      "Covariance Type:            nonrobust                                         \n",
      "==================================================================================================================================\n",
      "                                                                     coef    std err          t      P>|t|      [0.025      0.975]\n",
      "----------------------------------------------------------------------------------------------------------------------------------\n",
      "const                                                          -7.504e+06   9.67e+06     -0.776      0.439   -2.66e+07    1.16e+07\n",
      "NBHDNo                                                            34.3747     75.061      0.458      0.648    -114.043     182.792\n",
      "Median total income of economic family in 2020 ($)                 0.1062      0.140      0.759      0.449      -0.171       0.383\n",
      "Employment rate                                                 -470.8348    940.772     -0.500      0.618   -2331.027    1389.358\n",
      "No certificate, diploma or degree (%)                           7.382e+04   9.67e+04      0.763      0.446   -1.17e+05    2.65e+05\n",
      "High (secondary) school diploma or equivalency certificate (%)  7.522e+04   9.67e+04      0.778      0.438   -1.16e+05    2.66e+05\n",
      "Postsecondary certificate, diploma or degree (%)                7.532e+04   9.67e+04      0.779      0.437   -1.16e+05    2.66e+05\n",
      "No_of_Branches                                                  1.721e+04   8810.416      1.953      0.053    -210.785    3.46e+04\n",
      "No_of_Workstations                                               671.0628    740.791      0.906      0.367    -793.706    2135.832\n",
      "No_of_Programs                                                 -6826.9968   3159.353     -2.161      0.032   -1.31e+04    -579.997\n",
      "reg_2019                                                          -4.5201      5.670     -0.797      0.427     -15.732       6.692\n",
      "circ_2019                                                          0.1114      0.051      2.183      0.031       0.010       0.212\n",
      "wrkstn_use_2019                                                    3.5560      0.429      8.297      0.000       2.709       4.404\n",
      "ASSAULT_RATE_2019                                                 21.0479     15.890      1.325      0.188     -10.372      52.468\n",
      "AUTOTHEFT_RATE_2019                                               31.9672     26.725      1.196      0.234     -20.876      84.810\n",
      "BIKETHEFT_RATE_2019                                              -44.5598     38.324     -1.163      0.247    -120.338      31.219\n",
      "BREAKENTER_RATE_2019                                              38.6322     30.849      1.252      0.213     -22.366      99.630\n",
      "ROBBERY_RATE_2019                                                -62.2004     63.315     -0.982      0.328    -187.394      62.993\n",
      "SHOOTING_RATE_2019                                              -210.9203    216.827     -0.973      0.332    -639.653     217.813\n",
      "THEFTFROMMV_RATE_2019                                            -30.7868     27.640     -1.114      0.267     -85.440      23.866\n",
      "==============================================================================\n",
      "Omnibus:                       76.305   Durbin-Watson:                   2.023\n",
      "Prob(Omnibus):                  0.000   Jarque-Bera (JB):              638.012\n",
      "Skew:                           1.506   Prob(JB):                    2.87e-139\n",
      "Kurtosis:                      12.372   Cond. No.                     7.34e+08\n",
      "==============================================================================\n",
      "\n",
      "Notes:\n",
      "[1] Standard Errors assume that the covariance matrix of the errors is correctly specified.\n",
      "[2] The condition number is large, 7.34e+08. This might indicate that there are\n",
      "strong multicollinearity or other numerical problems.\n"
     ]
    }
   ],
   "source": [
    "y = model_2019['visits_2019']\n",
    "X = model_2019.drop(['visits_2019', 'THEFTOVER_RATE_2019', 'Participation rate', 'Unemployment rate', 'HOMICIDE_RATE_2019', 'Median total income of private household in 2020 ($)'], axis=1)\n",
    "X = sm.add_constant(X)\n",
    "\n",
    "model_visits_2019 = sm.OLS(y.astype(float), X.astype(float))\n",
    "results_2019 = model_visits_2019.fit()\n",
    "print(results_2019.summary())"
   ]
  },
  {
   "cell_type": "code",
   "execution_count": 12,
   "id": "75f048a6-b926-4fbd-a33e-66ec4942f328",
   "metadata": {
    "tags": []
   },
   "outputs": [
    {
     "name": "stdout",
     "output_type": "stream",
     "text": [
      "                            OLS Regression Results                            \n",
      "==============================================================================\n",
      "Dep. Variable:            visits_2019   R-squared:                       0.964\n",
      "Model:                            OLS   Adj. R-squared:                  0.959\n",
      "Method:                 Least Squares   F-statistic:                     204.8\n",
      "Date:                Sun, 28 Jan 2024   Prob (F-statistic):           1.45e-90\n",
      "Time:                        02:11:13   Log-Likelihood:                -1889.7\n",
      "No. Observations:                 158   AIC:                             3817.\n",
      "Df Residuals:                     139   BIC:                             3876.\n",
      "Df Model:                          18                                         \n",
      "Covariance Type:            nonrobust                                         \n",
      "==================================================================================================================================\n",
      "                                                                     coef    std err          t      P>|t|      [0.025      0.975]\n",
      "----------------------------------------------------------------------------------------------------------------------------------\n",
      "const                                                          -7.397e+06   9.66e+06     -0.766      0.445   -2.65e+07    1.17e+07\n",
      "NBHDNo                                                            27.0238     74.319      0.364      0.717    -119.918     173.966\n",
      "Employment rate                                                 -499.5710    938.574     -0.532      0.595   -2355.298    1356.156\n",
      "No certificate, diploma or degree (%)                           7.294e+04   9.65e+04      0.756      0.451   -1.18e+05    2.64e+05\n",
      "High (secondary) school diploma or equivalency certificate (%)  7.401e+04   9.66e+04      0.766      0.445   -1.17e+05    2.65e+05\n",
      "Postsecondary certificate, diploma or degree (%)                 7.45e+04   9.65e+04      0.772      0.441   -1.16e+05    2.65e+05\n",
      "No_of_Branches                                                  1.769e+04   8774.481      2.016      0.046     338.883     3.5e+04\n",
      "No_of_Workstations                                               792.4859    722.191      1.097      0.274    -635.415    2220.387\n",
      "No_of_Programs                                                 -7273.1797   3099.393     -2.347      0.020   -1.34e+04   -1145.129\n",
      "reg_2019                                                          -4.7169      5.656     -0.834      0.406     -15.900       6.466\n",
      "circ_2019                                                          0.1141      0.051      2.246      0.026       0.014       0.215\n",
      "wrkstn_use_2019                                                    3.5091      0.423      8.286      0.000       2.672       4.346\n",
      "ASSAULT_RATE_2019                                                 19.1481     15.668      1.222      0.224     -11.830      50.126\n",
      "AUTOTHEFT_RATE_2019                                               32.2444     26.682      1.208      0.229     -20.510      84.999\n",
      "BIKETHEFT_RATE_2019                                              -45.8547     38.228     -1.200      0.232    -121.438      29.728\n",
      "BREAKENTER_RATE_2019                                              39.4079     30.785      1.280      0.203     -21.460     100.276\n",
      "ROBBERY_RATE_2019                                                -60.0577     63.156     -0.951      0.343    -184.928      64.812\n",
      "SHOOTING_RATE_2019                                              -205.9155    216.396     -0.952      0.343    -633.768     221.937\n",
      "THEFTFROMMV_RATE_2019                                            -28.7654     27.469     -1.047      0.297     -83.077      25.546\n",
      "==============================================================================\n",
      "Omnibus:                       75.335   Durbin-Watson:                   2.011\n",
      "Prob(Omnibus):                  0.000   Jarque-Bera (JB):              633.753\n",
      "Skew:                           1.478   Prob(JB):                    2.41e-138\n",
      "Kurtosis:                      12.356   Cond. No.                     6.92e+08\n",
      "==============================================================================\n",
      "\n",
      "Notes:\n",
      "[1] Standard Errors assume that the covariance matrix of the errors is correctly specified.\n",
      "[2] The condition number is large, 6.92e+08. This might indicate that there are\n",
      "strong multicollinearity or other numerical problems.\n"
     ]
    }
   ],
   "source": [
    "y = model_2019['visits_2019']\n",
    "X = model_2019.drop(['visits_2019', 'THEFTOVER_RATE_2019', 'Participation rate', 'Unemployment rate', 'HOMICIDE_RATE_2019', 'Median total income of private household in 2020 ($)', \n",
    "                     'Median total income of economic family in 2020 ($)'], axis=1)\n",
    "X = sm.add_constant(X)\n",
    "\n",
    "model_visits_2019 = sm.OLS(y.astype(float), X.astype(float))\n",
    "results_2019 = model_visits_2019.fit()\n",
    "print(results_2019.summary())"
   ]
  },
  {
   "cell_type": "code",
   "execution_count": 13,
   "id": "7cf47174-f82c-41ae-b2d2-2f3b51d708b8",
   "metadata": {
    "tags": []
   },
   "outputs": [
    {
     "name": "stdout",
     "output_type": "stream",
     "text": [
      "                            OLS Regression Results                            \n",
      "==============================================================================\n",
      "Dep. Variable:            visits_2019   R-squared:                       0.964\n",
      "Model:                            OLS   Adj. R-squared:                  0.959\n",
      "Method:                 Least Squares   F-statistic:                     218.0\n",
      "Date:                Sun, 28 Jan 2024   Prob (F-statistic):           1.11e-91\n",
      "Time:                        02:11:40   Log-Likelihood:                -1889.8\n",
      "No. Observations:                 158   AIC:                             3816.\n",
      "Df Residuals:                     140   BIC:                             3871.\n",
      "Df Model:                          17                                         \n",
      "Covariance Type:            nonrobust                                         \n",
      "==================================================================================================================================\n",
      "                                                                     coef    std err          t      P>|t|      [0.025      0.975]\n",
      "----------------------------------------------------------------------------------------------------------------------------------\n",
      "const                                                          -7.797e+06    9.6e+06     -0.812      0.418   -2.68e+07    1.12e+07\n",
      "NBHDNo                                                            22.4216     73.625      0.305      0.761    -123.139     167.983\n",
      "No certificate, diploma or degree (%)                           7.653e+04   9.61e+04      0.797      0.427   -1.13e+05    2.66e+05\n",
      "High (secondary) school diploma or equivalency certificate (%)  7.814e+04    9.6e+04      0.814      0.417   -1.12e+05    2.68e+05\n",
      "Postsecondary certificate, diploma or degree (%)                7.811e+04    9.6e+04      0.813      0.417   -1.12e+05    2.68e+05\n",
      "No_of_Branches                                                  1.674e+04   8568.654      1.953      0.053    -204.037    3.37e+04\n",
      "No_of_Workstations                                               796.2160    720.307      1.105      0.271    -627.869    2220.301\n",
      "No_of_Programs                                                 -7469.7167   3069.432     -2.434      0.016   -1.35e+04   -1401.284\n",
      "reg_2019                                                          -4.7663      5.641     -0.845      0.400     -15.918       6.386\n",
      "circ_2019                                                          0.1187      0.050      2.376      0.019       0.020       0.217\n",
      "wrkstn_use_2019                                                    3.5180      0.422      8.335      0.000       2.684       4.352\n",
      "ASSAULT_RATE_2019                                                 19.5907     15.606      1.255      0.211     -11.262      50.444\n",
      "AUTOTHEFT_RATE_2019                                               30.3018     26.363      1.149      0.252     -21.819      82.423\n",
      "BIKETHEFT_RATE_2019                                              -51.8134     36.458     -1.421      0.157    -123.893      20.266\n",
      "BREAKENTER_RATE_2019                                              43.2749     29.839      1.450      0.149     -15.718     102.268\n",
      "ROBBERY_RATE_2019                                                -58.8931     62.956     -0.935      0.351    -183.360      65.574\n",
      "SHOOTING_RATE_2019                                              -206.0654    215.841     -0.955      0.341    -632.794     220.664\n",
      "THEFTFROMMV_RATE_2019                                            -29.3481     27.377     -1.072      0.286     -83.474      24.778\n",
      "==============================================================================\n",
      "Omnibus:                       77.132   Durbin-Watson:                   2.008\n",
      "Prob(Omnibus):                  0.000   Jarque-Bera (JB):              661.048\n",
      "Skew:                           1.518   Prob(JB):                    2.85e-144\n",
      "Kurtosis:                      12.549   Cond. No.                     6.90e+08\n",
      "==============================================================================\n",
      "\n",
      "Notes:\n",
      "[1] Standard Errors assume that the covariance matrix of the errors is correctly specified.\n",
      "[2] The condition number is large, 6.9e+08. This might indicate that there are\n",
      "strong multicollinearity or other numerical problems.\n"
     ]
    }
   ],
   "source": [
    "y = model_2019['visits_2019']\n",
    "X = model_2019.drop(['visits_2019', 'THEFTOVER_RATE_2019', 'Participation rate', 'Unemployment rate', 'HOMICIDE_RATE_2019', 'Median total income of private household in 2020 ($)', \n",
    "                     'Median total income of economic family in 2020 ($)', 'Employment rate'], axis=1)\n",
    "X = sm.add_constant(X)\n",
    "\n",
    "model_visits_2019 = sm.OLS(y.astype(float), X.astype(float))\n",
    "results_2019 = model_visits_2019.fit()\n",
    "print(results_2019.summary())"
   ]
  },
  {
   "cell_type": "code",
   "execution_count": 14,
   "id": "dcbe2644-bb17-4834-be5c-8c5541a5183b",
   "metadata": {
    "tags": []
   },
   "outputs": [
    {
     "name": "stdout",
     "output_type": "stream",
     "text": [
      "                            OLS Regression Results                            \n",
      "==============================================================================\n",
      "Dep. Variable:            visits_2019   R-squared:                       0.963\n",
      "Model:                            OLS   Adj. R-squared:                  0.959\n",
      "Method:                 Least Squares   F-statistic:                     232.2\n",
      "Date:                Sun, 28 Jan 2024   Prob (F-statistic):           9.82e-93\n",
      "Time:                        02:12:22   Log-Likelihood:                -1890.2\n",
      "No. Observations:                 158   AIC:                             3814.\n",
      "Df Residuals:                     141   BIC:                             3866.\n",
      "Df Model:                          16                                         \n",
      "Covariance Type:            nonrobust                                         \n",
      "==================================================================================================================================\n",
      "                                                                     coef    std err          t      P>|t|      [0.025      0.975]\n",
      "----------------------------------------------------------------------------------------------------------------------------------\n",
      "const                                                          -1.479e+05   9.39e+04     -1.576      0.117   -3.34e+05    3.76e+04\n",
      "NBHDNo                                                            27.9541     73.202      0.382      0.703    -116.761     172.669\n",
      "High (secondary) school diploma or equivalency certificate (%)  1660.0398   1883.904      0.881      0.380   -2064.310    5384.389\n",
      "Postsecondary certificate, diploma or degree (%)                1610.5225    843.910      1.908      0.058     -57.830    3278.875\n",
      "No_of_Branches                                                   1.64e+04   8547.226      1.919      0.057    -495.821    3.33e+04\n",
      "No_of_Workstations                                               816.3384    718.931      1.135      0.258    -604.938    2237.615\n",
      "No_of_Programs                                                 -7327.2732   3060.249     -2.394      0.018   -1.34e+04   -1277.371\n",
      "reg_2019                                                          -4.7079      5.633     -0.836      0.405     -15.844       6.428\n",
      "circ_2019                                                          0.1190      0.050      2.385      0.018       0.020       0.218\n",
      "wrkstn_use_2019                                                    3.5012      0.421      8.316      0.000       2.669       4.333\n",
      "ASSAULT_RATE_2019                                                 20.8641     15.503      1.346      0.181      -9.785      51.513\n",
      "AUTOTHEFT_RATE_2019                                               33.3756     26.045      1.281      0.202     -18.114      84.865\n",
      "BIKETHEFT_RATE_2019                                              -50.5492     36.376     -1.390      0.167    -122.463      21.364\n",
      "BREAKENTER_RATE_2019                                              44.6960     29.747      1.503      0.135     -14.112     103.504\n",
      "ROBBERY_RATE_2019                                                -69.6534     61.410     -1.134      0.259    -191.058      51.751\n",
      "SHOOTING_RATE_2019                                              -198.0129    215.325     -0.920      0.359    -623.695     227.669\n",
      "THEFTFROMMV_RATE_2019                                            -31.3296     27.229     -1.151      0.252     -85.159      22.500\n",
      "==============================================================================\n",
      "Omnibus:                       76.803   Durbin-Watson:                   2.021\n",
      "Prob(Omnibus):                  0.000   Jarque-Bera (JB):              661.732\n",
      "Skew:                           1.507   Prob(JB):                    2.03e-144\n",
      "Kurtosis:                      12.562   Cond. No.                     6.76e+06\n",
      "==============================================================================\n",
      "\n",
      "Notes:\n",
      "[1] Standard Errors assume that the covariance matrix of the errors is correctly specified.\n",
      "[2] The condition number is large, 6.76e+06. This might indicate that there are\n",
      "strong multicollinearity or other numerical problems.\n"
     ]
    }
   ],
   "source": [
    "y = model_2019['visits_2019']\n",
    "X = model_2019.drop(['visits_2019', 'THEFTOVER_RATE_2019', 'Participation rate', 'Unemployment rate', 'HOMICIDE_RATE_2019', 'Median total income of private household in 2020 ($)', \n",
    "                     'Median total income of economic family in 2020 ($)', 'Employment rate', 'No certificate, diploma or degree (%)'], axis=1)\n",
    "X = sm.add_constant(X)\n",
    "\n",
    "model_visits_2019 = sm.OLS(y.astype(float), X.astype(float))\n",
    "results_2019 = model_visits_2019.fit()\n",
    "print(results_2019.summary())"
   ]
  },
  {
   "cell_type": "code",
   "execution_count": 15,
   "id": "3a6da5f2-e6e5-452a-ab83-0ba8844beabd",
   "metadata": {
    "tags": []
   },
   "outputs": [
    {
     "name": "stdout",
     "output_type": "stream",
     "text": [
      "                            OLS Regression Results                            \n",
      "==============================================================================\n",
      "Dep. Variable:            visits_2019   R-squared:                       0.963\n",
      "Model:                            OLS   Adj. R-squared:                  0.959\n",
      "Method:                 Least Squares   F-statistic:                     248.0\n",
      "Date:                Sun, 28 Jan 2024   Prob (F-statistic):           9.00e-94\n",
      "Time:                        02:12:49   Log-Likelihood:                -1890.6\n",
      "No. Observations:                 158   AIC:                             3813.\n",
      "Df Residuals:                     142   BIC:                             3862.\n",
      "Df Model:                          15                                         \n",
      "Covariance Type:            nonrobust                                         \n",
      "====================================================================================================================\n",
      "                                                       coef    std err          t      P>|t|      [0.025      0.975]\n",
      "--------------------------------------------------------------------------------------------------------------------\n",
      "const                                            -6.958e+04   3.01e+04     -2.315      0.022   -1.29e+05   -1.02e+04\n",
      "NBHDNo                                              27.9825     73.144      0.383      0.703    -116.610     172.575\n",
      "Postsecondary certificate, diploma or degree (%)   976.7793    441.157      2.214      0.028     104.695    1848.863\n",
      "No_of_Branches                                    1.612e+04   8534.612      1.889      0.061    -749.372     3.3e+04\n",
      "No_of_Workstations                                 815.6297    718.364      1.135      0.258    -604.440    2235.700\n",
      "No_of_Programs                                   -7353.7447   3057.692     -2.405      0.017   -1.34e+04   -1309.266\n",
      "reg_2019                                            -4.6954      5.628     -0.834      0.406     -15.822       6.431\n",
      "circ_2019                                            0.1203      0.050      2.415      0.017       0.022       0.219\n",
      "wrkstn_use_2019                                      3.4954      0.421      8.310      0.000       2.664       4.327\n",
      "ASSAULT_RATE_2019                                   24.3801     14.969      1.629      0.106      -5.212      53.972\n",
      "AUTOTHEFT_RATE_2019                                 33.9808     26.016      1.306      0.194     -17.447      85.409\n",
      "BIKETHEFT_RATE_2019                                -59.5888     34.872     -1.709      0.090    -128.525       9.347\n",
      "BREAKENTER_RATE_2019                                43.2444     29.678      1.457      0.147     -15.423     101.912\n",
      "ROBBERY_RATE_2019                                  -76.2462     60.905     -1.252      0.213    -196.644      44.151\n",
      "SHOOTING_RATE_2019                                -207.5087    214.885     -0.966      0.336    -632.297     217.279\n",
      "THEFTFROMMV_RATE_2019                              -31.3524     27.207     -1.152      0.251     -85.136      22.431\n",
      "==============================================================================\n",
      "Omnibus:                       76.950   Durbin-Watson:                   2.012\n",
      "Prob(Omnibus):                  0.000   Jarque-Bera (JB):              661.485\n",
      "Skew:                           1.512   Prob(JB):                    2.29e-144\n",
      "Kurtosis:                      12.557   Cond. No.                     2.17e+06\n",
      "==============================================================================\n",
      "\n",
      "Notes:\n",
      "[1] Standard Errors assume that the covariance matrix of the errors is correctly specified.\n",
      "[2] The condition number is large, 2.17e+06. This might indicate that there are\n",
      "strong multicollinearity or other numerical problems.\n"
     ]
    }
   ],
   "source": [
    "y = model_2019['visits_2019']\n",
    "X = model_2019.drop(['visits_2019', 'THEFTOVER_RATE_2019', 'Participation rate', 'Unemployment rate', 'HOMICIDE_RATE_2019', 'Median total income of private household in 2020 ($)', \n",
    "                     'Median total income of economic family in 2020 ($)', 'Employment rate', 'No certificate, diploma or degree (%)', 'High (secondary) school diploma or equivalency certificate (%)'], axis=1)\n",
    "X = sm.add_constant(X)\n",
    "\n",
    "model_visits_2019 = sm.OLS(y.astype(float), X.astype(float))\n",
    "results_2019 = model_visits_2019.fit()\n",
    "print(results_2019.summary())"
   ]
  },
  {
   "cell_type": "code",
   "execution_count": 16,
   "id": "16e447da-a56e-431c-ad60-a01b0cf4187b",
   "metadata": {
    "tags": []
   },
   "outputs": [
    {
     "name": "stdout",
     "output_type": "stream",
     "text": [
      "                            OLS Regression Results                            \n",
      "==============================================================================\n",
      "Dep. Variable:            visits_2019   R-squared:                       0.962\n",
      "Model:                            OLS   Adj. R-squared:                  0.958\n",
      "Method:                 Least Squares   F-statistic:                     258.3\n",
      "Date:                Sun, 28 Jan 2024   Prob (F-statistic):           6.06e-94\n",
      "Time:                        02:13:24   Log-Likelihood:                -1893.3\n",
      "No. Observations:                 158   AIC:                             3817.\n",
      "Df Residuals:                     143   BIC:                             3863.\n",
      "Df Model:                          14                                         \n",
      "Covariance Type:            nonrobust                                         \n",
      "=========================================================================================\n",
      "                            coef    std err          t      P>|t|      [0.025      0.975]\n",
      "-----------------------------------------------------------------------------------------\n",
      "const                 -7659.7347   1.12e+04     -0.686      0.494   -2.97e+04    1.44e+04\n",
      "NBHDNo                   41.6011     73.873      0.563      0.574    -104.423     187.625\n",
      "No_of_Branches         1.155e+04   8393.350      1.376      0.171   -5040.483    2.81e+04\n",
      "No_of_Workstations     1145.4955    712.270      1.608      0.110    -262.442    2553.433\n",
      "No_of_Programs        -8265.0159   3070.929     -2.691      0.008   -1.43e+04   -2194.734\n",
      "reg_2019                 -3.8157      5.690     -0.671      0.504     -15.064       7.433\n",
      "circ_2019                 0.1487      0.049      3.047      0.003       0.052       0.245\n",
      "wrkstn_use_2019           3.2810      0.415      7.909      0.000       2.461       4.101\n",
      "ASSAULT_RATE_2019        12.3177     14.132      0.872      0.385     -15.616      40.252\n",
      "AUTOTHEFT_RATE_2019      25.4257     26.076      0.975      0.331     -26.118      76.970\n",
      "BIKETHEFT_RATE_2019     -19.6225     30.242     -0.649      0.517     -79.401      40.156\n",
      "BREAKENTER_RATE_2019     44.6566     30.073      1.485      0.140     -14.789     104.102\n",
      "ROBBERY_RATE_2019       -66.2293     61.560     -1.076      0.284    -187.914      55.456\n",
      "SHOOTING_RATE_2019     -324.6720    211.091     -1.538      0.126    -741.934      92.590\n",
      "THEFTFROMMV_RATE_2019   -22.8247     27.298     -0.836      0.404     -76.785      31.136\n",
      "==============================================================================\n",
      "Omnibus:                       71.692   Durbin-Watson:                   2.025\n",
      "Prob(Omnibus):                  0.000   Jarque-Bera (JB):              599.246\n",
      "Skew:                           1.385   Prob(JB):                    7.51e-131\n",
      "Kurtosis:                      12.130   Cond. No.                     7.96e+05\n",
      "==============================================================================\n",
      "\n",
      "Notes:\n",
      "[1] Standard Errors assume that the covariance matrix of the errors is correctly specified.\n",
      "[2] The condition number is large, 7.96e+05. This might indicate that there are\n",
      "strong multicollinearity or other numerical problems.\n"
     ]
    }
   ],
   "source": [
    "y = model_2019['visits_2019']\n",
    "X = model_2019.drop(['visits_2019', 'THEFTOVER_RATE_2019', 'Participation rate', 'Unemployment rate', 'HOMICIDE_RATE_2019', 'Median total income of private household in 2020 ($)', \n",
    "                     'Median total income of economic family in 2020 ($)', 'Employment rate', 'No certificate, diploma or degree (%)', 'High (secondary) school diploma or equivalency certificate (%)',\n",
    "                    'Postsecondary certificate, diploma or degree (%)'], axis=1)\n",
    "X = sm.add_constant(X)\n",
    "\n",
    "model_visits_2019 = sm.OLS(y.astype(float), X.astype(float))\n",
    "results_2019 = model_visits_2019.fit()\n",
    "print(results_2019.summary())"
   ]
  },
  {
   "cell_type": "code",
   "execution_count": 17,
   "id": "a27c106d-ba00-4292-ae9a-32c46be19890",
   "metadata": {
    "tags": []
   },
   "outputs": [
    {
     "name": "stdout",
     "output_type": "stream",
     "text": [
      "                            OLS Regression Results                            \n",
      "==============================================================================\n",
      "Dep. Variable:            visits_2019   R-squared:                       0.961\n",
      "Model:                            OLS   Adj. R-squared:                  0.958\n",
      "Method:                 Least Squares   F-statistic:                     276.3\n",
      "Date:                Sun, 28 Jan 2024   Prob (F-statistic):           9.11e-95\n",
      "Time:                        02:13:52   Log-Likelihood:                -1894.3\n",
      "No. Observations:                 158   AIC:                             3817.\n",
      "Df Residuals:                     144   BIC:                             3860.\n",
      "Df Model:                          13                                         \n",
      "Covariance Type:            nonrobust                                         \n",
      "=========================================================================================\n",
      "                            coef    std err          t      P>|t|      [0.025      0.975]\n",
      "-----------------------------------------------------------------------------------------\n",
      "const                 -8580.4373   1.12e+04     -0.767      0.444   -3.07e+04    1.35e+04\n",
      "NBHDNo                   54.3719     73.515      0.740      0.461     -90.936     199.680\n",
      "No_of_Workstations     1336.1718    700.828      1.907      0.059     -49.067    2721.411\n",
      "No_of_Programs        -8508.2628   3075.338     -2.767      0.006   -1.46e+04   -2429.626\n",
      "reg_2019                 -4.9509      5.648     -0.877      0.382     -16.114       6.212\n",
      "circ_2019                 0.1894      0.039      4.865      0.000       0.112       0.266\n",
      "wrkstn_use_2019           3.2116      0.413      7.775      0.000       2.395       4.028\n",
      "ASSAULT_RATE_2019        14.0827     14.117      0.998      0.320     -13.821      41.986\n",
      "AUTOTHEFT_RATE_2019      30.7197     25.871      1.187      0.237     -20.415      81.855\n",
      "BIKETHEFT_RATE_2019     -24.5260     30.124     -0.814      0.417     -84.068      35.016\n",
      "BREAKENTER_RATE_2019     44.0807     30.163      1.461      0.146     -15.540     103.701\n",
      "ROBBERY_RATE_2019       -73.3029     61.535     -1.191      0.236    -194.931      48.325\n",
      "SHOOTING_RATE_2019     -302.4716    211.126     -1.433      0.154    -719.777     114.834\n",
      "THEFTFROMMV_RATE_2019   -17.4283     27.099     -0.643      0.521     -70.991      36.135\n",
      "==============================================================================\n",
      "Omnibus:                       72.929   Durbin-Watson:                   2.015\n",
      "Prob(Omnibus):                  0.000   Jarque-Bera (JB):              610.112\n",
      "Skew:                           1.417   Prob(JB):                    3.28e-133\n",
      "Kurtosis:                      12.200   Cond. No.                     7.93e+05\n",
      "==============================================================================\n",
      "\n",
      "Notes:\n",
      "[1] Standard Errors assume that the covariance matrix of the errors is correctly specified.\n",
      "[2] The condition number is large, 7.93e+05. This might indicate that there are\n",
      "strong multicollinearity or other numerical problems.\n"
     ]
    }
   ],
   "source": [
    "y = model_2019['visits_2019']\n",
    "X = model_2019.drop(['visits_2019', 'THEFTOVER_RATE_2019', 'Participation rate', 'Unemployment rate', 'HOMICIDE_RATE_2019', 'Median total income of private household in 2020 ($)', \n",
    "                     'Median total income of economic family in 2020 ($)', 'Employment rate', 'No certificate, diploma or degree (%)', 'High (secondary) school diploma or equivalency certificate (%)',\n",
    "                    'Postsecondary certificate, diploma or degree (%)', 'No_of_Branches'], axis=1)\n",
    "X = sm.add_constant(X)\n",
    "\n",
    "model_visits_2019 = sm.OLS(y.astype(float), X.astype(float))\n",
    "results_2019 = model_visits_2019.fit()\n",
    "print(results_2019.summary())"
   ]
  },
  {
   "cell_type": "code",
   "execution_count": 18,
   "id": "bcb84d62-a66a-49d2-ae64-50599acde10a",
   "metadata": {
    "tags": []
   },
   "outputs": [
    {
     "name": "stdout",
     "output_type": "stream",
     "text": [
      "                            OLS Regression Results                            \n",
      "==============================================================================\n",
      "Dep. Variable:            visits_2019   R-squared:                       0.961\n",
      "Model:                            OLS   Adj. R-squared:                  0.958\n",
      "Method:                 Least Squares   F-statistic:                     300.5\n",
      "Date:                Sun, 28 Jan 2024   Prob (F-statistic):           6.31e-96\n",
      "Time:                        02:14:18   Log-Likelihood:                -1894.6\n",
      "No. Observations:                 158   AIC:                             3815.\n",
      "Df Residuals:                     145   BIC:                             3855.\n",
      "Df Model:                          12                                         \n",
      "Covariance Type:            nonrobust                                         \n",
      "========================================================================================\n",
      "                           coef    std err          t      P>|t|      [0.025      0.975]\n",
      "----------------------------------------------------------------------------------------\n",
      "const                -9527.1231   1.11e+04     -0.861      0.391   -3.14e+04    1.23e+04\n",
      "NBHDNo                  61.6779     72.485      0.851      0.396     -81.586     204.941\n",
      "No_of_Workstations    1374.1505    696.922      1.972      0.051      -3.288    2751.589\n",
      "No_of_Programs       -8611.9650   3064.892     -2.810      0.006   -1.47e+04   -2554.329\n",
      "reg_2019                -4.7130      5.624     -0.838      0.403     -15.829       6.403\n",
      "circ_2019                0.1869      0.039      4.835      0.000       0.111       0.263\n",
      "wrkstn_use_2019          3.1912      0.411      7.764      0.000       2.379       4.004\n",
      "ASSAULT_RATE_2019       10.6519     13.044      0.817      0.415     -15.129      36.433\n",
      "AUTOTHEFT_RATE_2019     24.7932     24.125      1.028      0.306     -22.888      72.475\n",
      "BIKETHEFT_RATE_2019    -23.0654     29.977     -0.769      0.443     -82.315      36.184\n",
      "BREAKENTER_RATE_2019    34.8557     26.481      1.316      0.190     -17.483      87.194\n",
      "ROBBERY_RATE_2019      -72.9457     61.408     -1.188      0.237    -194.316      48.424\n",
      "SHOOTING_RATE_2019    -271.2349    205.047     -1.323      0.188    -676.502     134.033\n",
      "==============================================================================\n",
      "Omnibus:                       75.553   Durbin-Watson:                   1.998\n",
      "Prob(Omnibus):                  0.000   Jarque-Bera (JB):              641.694\n",
      "Skew:                           1.480   Prob(JB):                    4.55e-140\n",
      "Kurtosis:                      12.419   Cond. No.                     7.86e+05\n",
      "==============================================================================\n",
      "\n",
      "Notes:\n",
      "[1] Standard Errors assume that the covariance matrix of the errors is correctly specified.\n",
      "[2] The condition number is large, 7.86e+05. This might indicate that there are\n",
      "strong multicollinearity or other numerical problems.\n"
     ]
    }
   ],
   "source": [
    "y = model_2019['visits_2019']\n",
    "X = model_2019.drop(['visits_2019', 'THEFTOVER_RATE_2019', 'Participation rate', 'Unemployment rate', 'HOMICIDE_RATE_2019', 'Median total income of private household in 2020 ($)', \n",
    "                     'Median total income of economic family in 2020 ($)', 'Employment rate', 'No certificate, diploma or degree (%)', 'High (secondary) school diploma or equivalency certificate (%)',\n",
    "                    'Postsecondary certificate, diploma or degree (%)', 'No_of_Branches', 'THEFTFROMMV_RATE_2019'], axis=1)\n",
    "X = sm.add_constant(X)\n",
    "\n",
    "model_visits_2019 = sm.OLS(y.astype(float), X.astype(float))\n",
    "results_2019 = model_visits_2019.fit()\n",
    "print(results_2019.summary())"
   ]
  },
  {
   "cell_type": "code",
   "execution_count": 19,
   "id": "6cff9547-36ab-4965-af3c-24ca8e61a537",
   "metadata": {
    "tags": []
   },
   "outputs": [
    {
     "name": "stdout",
     "output_type": "stream",
     "text": [
      "                            OLS Regression Results                            \n",
      "==============================================================================\n",
      "Dep. Variable:            visits_2019   R-squared:                       0.961\n",
      "Model:                            OLS   Adj. R-squared:                  0.958\n",
      "Method:                 Least Squares   F-statistic:                     328.7\n",
      "Date:                Sun, 28 Jan 2024   Prob (F-statistic):           4.56e-97\n",
      "Time:                        02:14:56   Log-Likelihood:                -1894.9\n",
      "No. Observations:                 158   AIC:                             3814.\n",
      "Df Residuals:                     146   BIC:                             3851.\n",
      "Df Model:                          11                                         \n",
      "Covariance Type:            nonrobust                                         \n",
      "========================================================================================\n",
      "                           coef    std err          t      P>|t|      [0.025      0.975]\n",
      "----------------------------------------------------------------------------------------\n",
      "const                -7631.5703   1.08e+04     -0.709      0.480   -2.89e+04    1.37e+04\n",
      "NBHDNo                  58.7564     72.284      0.813      0.418     -84.102     201.615\n",
      "No_of_Workstations    1373.3855    695.947      1.973      0.050      -2.047    2748.818\n",
      "No_of_Programs       -8213.8455   3016.676     -2.723      0.007   -1.42e+04   -2251.850\n",
      "reg_2019                -5.2107      5.579     -0.934      0.352     -16.237       5.816\n",
      "circ_2019                0.1858      0.039      4.815      0.000       0.110       0.262\n",
      "wrkstn_use_2019          3.2059      0.410      7.819      0.000       2.396       4.016\n",
      "ASSAULT_RATE_2019        5.1484     10.893      0.473      0.637     -16.379      26.676\n",
      "AUTOTHEFT_RATE_2019     29.0939     23.435      1.241      0.216     -17.223      75.411\n",
      "BREAKENTER_RATE_2019    23.7683     22.186      1.071      0.286     -20.079      67.615\n",
      "ROBBERY_RATE_2019      -61.5947     59.526     -1.035      0.302    -179.239      56.050\n",
      "SHOOTING_RATE_2019    -247.8128    202.492     -1.224      0.223    -648.006     152.380\n",
      "==============================================================================\n",
      "Omnibus:                       77.304   Durbin-Watson:                   2.004\n",
      "Prob(Omnibus):                  0.000   Jarque-Bera (JB):              669.268\n",
      "Skew:                           1.519   Prob(JB):                    4.68e-146\n",
      "Kurtosis:                      12.614   Cond. No.                     7.66e+05\n",
      "==============================================================================\n",
      "\n",
      "Notes:\n",
      "[1] Standard Errors assume that the covariance matrix of the errors is correctly specified.\n",
      "[2] The condition number is large, 7.66e+05. This might indicate that there are\n",
      "strong multicollinearity or other numerical problems.\n"
     ]
    }
   ],
   "source": [
    "y = model_2019['visits_2019']\n",
    "X = model_2019.drop(['visits_2019', 'THEFTOVER_RATE_2019', 'Participation rate', 'Unemployment rate', 'HOMICIDE_RATE_2019', 'Median total income of private household in 2020 ($)', \n",
    "                     'Median total income of economic family in 2020 ($)', 'Employment rate', 'No certificate, diploma or degree (%)', 'High (secondary) school diploma or equivalency certificate (%)',\n",
    "                    'Postsecondary certificate, diploma or degree (%)', 'No_of_Branches', 'THEFTFROMMV_RATE_2019', 'BIKETHEFT_RATE_2019'], axis=1)\n",
    "X = sm.add_constant(X)\n",
    "\n",
    "model_visits_2019 = sm.OLS(y.astype(float), X.astype(float))\n",
    "results_2019 = model_visits_2019.fit()\n",
    "print(results_2019.summary())"
   ]
  },
  {
   "cell_type": "code",
   "execution_count": 20,
   "id": "61149e8b-de0a-4468-9132-755a753e5aed",
   "metadata": {
    "tags": []
   },
   "outputs": [
    {
     "name": "stdout",
     "output_type": "stream",
     "text": [
      "                            OLS Regression Results                            \n",
      "==============================================================================\n",
      "Dep. Variable:            visits_2019   R-squared:                       0.961\n",
      "Model:                            OLS   Adj. R-squared:                  0.958\n",
      "Method:                 Least Squares   F-statistic:                     363.4\n",
      "Date:                Sun, 28 Jan 2024   Prob (F-statistic):           2.60e-98\n",
      "Time:                        02:15:22   Log-Likelihood:                -1895.0\n",
      "No. Observations:                 158   AIC:                             3812.\n",
      "Df Residuals:                     147   BIC:                             3846.\n",
      "Df Model:                          10                                         \n",
      "Covariance Type:            nonrobust                                         \n",
      "========================================================================================\n",
      "                           coef    std err          t      P>|t|      [0.025      0.975]\n",
      "----------------------------------------------------------------------------------------\n",
      "const                -8633.5265   1.05e+04     -0.820      0.414   -2.94e+04    1.22e+04\n",
      "NBHDNo                  68.0155     69.395      0.980      0.329     -69.125     205.156\n",
      "No_of_Workstations    1356.4868    693.190      1.957      0.052     -13.418    2726.392\n",
      "No_of_Programs       -8252.2310   3007.607     -2.744      0.007   -1.42e+04   -2308.498\n",
      "reg_2019                -4.5792      5.402     -0.848      0.398     -15.256       6.097\n",
      "circ_2019                0.1841      0.038      4.805      0.000       0.108       0.260\n",
      "wrkstn_use_2019          3.1922      0.408      7.826      0.000       2.386       3.998\n",
      "AUTOTHEFT_RATE_2019     28.4475     23.334      1.219      0.225     -17.665      74.560\n",
      "BREAKENTER_RATE_2019    28.1938     20.060      1.405      0.162     -11.450      67.838\n",
      "ROBBERY_RATE_2019      -43.5761     45.596     -0.956      0.341    -133.684      46.532\n",
      "SHOOTING_RATE_2019    -221.0383    193.892     -1.140      0.256    -604.215     162.138\n",
      "==============================================================================\n",
      "Omnibus:                       76.456   Durbin-Watson:                   2.008\n",
      "Prob(Omnibus):                  0.000   Jarque-Bera (JB):              657.744\n",
      "Skew:                           1.499   Prob(JB):                    1.49e-143\n",
      "Kurtosis:                      12.535   Cond. No.                     7.51e+05\n",
      "==============================================================================\n",
      "\n",
      "Notes:\n",
      "[1] Standard Errors assume that the covariance matrix of the errors is correctly specified.\n",
      "[2] The condition number is large, 7.51e+05. This might indicate that there are\n",
      "strong multicollinearity or other numerical problems.\n"
     ]
    }
   ],
   "source": [
    "y = model_2019['visits_2019']\n",
    "X = model_2019.drop(['visits_2019', 'THEFTOVER_RATE_2019', 'Participation rate', 'Unemployment rate', 'HOMICIDE_RATE_2019', 'Median total income of private household in 2020 ($)', \n",
    "                     'Median total income of economic family in 2020 ($)', 'Employment rate', 'No certificate, diploma or degree (%)', 'High (secondary) school diploma or equivalency certificate (%)',\n",
    "                    'Postsecondary certificate, diploma or degree (%)', 'No_of_Branches', 'THEFTFROMMV_RATE_2019', 'BIKETHEFT_RATE_2019', 'ASSAULT_RATE_2019'], axis=1)\n",
    "X = sm.add_constant(X)\n",
    "\n",
    "model_visits_2019 = sm.OLS(y.astype(float), X.astype(float))\n",
    "results_2019 = model_visits_2019.fit()\n",
    "print(results_2019.summary())"
   ]
  },
  {
   "cell_type": "code",
   "execution_count": 21,
   "id": "244a1e96-0e87-4820-91ba-b418e8b47e6b",
   "metadata": {
    "tags": []
   },
   "outputs": [
    {
     "name": "stdout",
     "output_type": "stream",
     "text": [
      "                            OLS Regression Results                            \n",
      "==============================================================================\n",
      "Dep. Variable:            visits_2019   R-squared:                       0.961\n",
      "Model:                            OLS   Adj. R-squared:                  0.959\n",
      "Method:                 Least Squares   F-statistic:                     404.5\n",
      "Date:                Sun, 28 Jan 2024   Prob (F-statistic):           1.80e-99\n",
      "Time:                        02:15:51   Log-Likelihood:                -1895.4\n",
      "No. Observations:                 158   AIC:                             3811.\n",
      "Df Residuals:                     148   BIC:                             3841.\n",
      "Df Model:                           9                                         \n",
      "Covariance Type:            nonrobust                                         \n",
      "========================================================================================\n",
      "                           coef    std err          t      P>|t|      [0.025      0.975]\n",
      "----------------------------------------------------------------------------------------\n",
      "const                -8319.9853   1.05e+04     -0.791      0.430   -2.91e+04    1.25e+04\n",
      "NBHDNo                  65.3254     69.256      0.943      0.347     -71.534     202.185\n",
      "No_of_Workstations    1395.8959    690.971      2.020      0.045      30.453    2761.339\n",
      "No_of_Programs       -8507.1011   2989.690     -2.845      0.005   -1.44e+04   -2599.107\n",
      "circ_2019                0.1698      0.034      4.945      0.000       0.102       0.238\n",
      "wrkstn_use_2019          3.0262      0.357      8.466      0.000       2.320       3.733\n",
      "AUTOTHEFT_RATE_2019     26.8688     23.237      1.156      0.249     -19.051      72.788\n",
      "BREAKENTER_RATE_2019    29.9632     19.932      1.503      0.135      -9.426      69.352\n",
      "ROBBERY_RATE_2019      -45.9744     45.465     -1.011      0.314    -135.818      43.870\n",
      "SHOOTING_RATE_2019    -218.6880    193.688     -1.129      0.261    -601.439     164.063\n",
      "==============================================================================\n",
      "Omnibus:                       79.651   Durbin-Watson:                   2.013\n",
      "Prob(Omnibus):                  0.000   Jarque-Bera (JB):              693.662\n",
      "Skew:                           1.579   Prob(JB):                    2.36e-151\n",
      "Kurtosis:                      12.767   Cond. No.                     7.50e+05\n",
      "==============================================================================\n",
      "\n",
      "Notes:\n",
      "[1] Standard Errors assume that the covariance matrix of the errors is correctly specified.\n",
      "[2] The condition number is large, 7.5e+05. This might indicate that there are\n",
      "strong multicollinearity or other numerical problems.\n"
     ]
    }
   ],
   "source": [
    "y = model_2019['visits_2019']\n",
    "X = model_2019.drop(['visits_2019', 'THEFTOVER_RATE_2019', 'Participation rate', 'Unemployment rate', 'HOMICIDE_RATE_2019', 'Median total income of private household in 2020 ($)', \n",
    "                     'Median total income of economic family in 2020 ($)', 'Employment rate', 'No certificate, diploma or degree (%)', 'High (secondary) school diploma or equivalency certificate (%)',\n",
    "                    'Postsecondary certificate, diploma or degree (%)', 'No_of_Branches', 'THEFTFROMMV_RATE_2019', 'BIKETHEFT_RATE_2019', 'ASSAULT_RATE_2019', 'reg_2019'], axis=1)\n",
    "X = sm.add_constant(X)\n",
    "\n",
    "model_visits_2019 = sm.OLS(y.astype(float), X.astype(float))\n",
    "results_2019 = model_visits_2019.fit()\n",
    "print(results_2019.summary())"
   ]
  },
  {
   "cell_type": "code",
   "execution_count": 22,
   "id": "30bad996-22fe-418e-9404-9fa9ab604633",
   "metadata": {
    "tags": []
   },
   "outputs": [
    {
     "name": "stdout",
     "output_type": "stream",
     "text": [
      "                            OLS Regression Results                            \n",
      "==============================================================================\n",
      "Dep. Variable:            visits_2019   R-squared:                       0.961\n",
      "Model:                            OLS   Adj. R-squared:                  0.959\n",
      "Method:                 Least Squares   F-statistic:                     455.3\n",
      "Date:                Sun, 28 Jan 2024   Prob (F-statistic):          1.27e-100\n",
      "Time:                        02:16:20   Log-Likelihood:                -1895.9\n",
      "No. Observations:                 158   AIC:                             3810.\n",
      "Df Residuals:                     149   BIC:                             3837.\n",
      "Df Model:                           8                                         \n",
      "Covariance Type:            nonrobust                                         \n",
      "========================================================================================\n",
      "                           coef    std err          t      P>|t|      [0.025      0.975]\n",
      "----------------------------------------------------------------------------------------\n",
      "const                -1454.0659   7584.909     -0.192      0.848   -1.64e+04    1.35e+04\n",
      "No_of_Workstations    1341.5012    688.305      1.949      0.053     -18.599    2701.601\n",
      "No_of_Programs       -8400.3223   2986.440     -2.813      0.006   -1.43e+04   -2499.077\n",
      "circ_2019                0.1643      0.034      4.858      0.000       0.097       0.231\n",
      "wrkstn_use_2019          3.0613      0.355      8.614      0.000       2.359       3.764\n",
      "AUTOTHEFT_RATE_2019     21.8861     22.620      0.968      0.335     -22.812      66.584\n",
      "BREAKENTER_RATE_2019    30.5956     19.914      1.536      0.127      -8.754      69.945\n",
      "ROBBERY_RATE_2019      -40.7098     45.104     -0.903      0.368    -129.836      48.417\n",
      "SHOOTING_RATE_2019    -257.9373    189.095     -1.364      0.175    -631.592     115.717\n",
      "==============================================================================\n",
      "Omnibus:                       82.800   Durbin-Watson:                   1.996\n",
      "Prob(Omnibus):                  0.000   Jarque-Bera (JB):              751.689\n",
      "Skew:                           1.647   Prob(JB):                    5.93e-164\n",
      "Kurtosis:                      13.165   Cond. No.                     5.42e+05\n",
      "==============================================================================\n",
      "\n",
      "Notes:\n",
      "[1] Standard Errors assume that the covariance matrix of the errors is correctly specified.\n",
      "[2] The condition number is large, 5.42e+05. This might indicate that there are\n",
      "strong multicollinearity or other numerical problems.\n"
     ]
    }
   ],
   "source": [
    "y = model_2019['visits_2019']\n",
    "X = model_2019.drop(['visits_2019', 'THEFTOVER_RATE_2019', 'Participation rate', 'Unemployment rate', 'HOMICIDE_RATE_2019', 'Median total income of private household in 2020 ($)', \n",
    "                     'Median total income of economic family in 2020 ($)', 'Employment rate', 'No certificate, diploma or degree (%)', 'High (secondary) school diploma or equivalency certificate (%)',\n",
    "                    'Postsecondary certificate, diploma or degree (%)', 'No_of_Branches', 'THEFTFROMMV_RATE_2019', 'BIKETHEFT_RATE_2019', 'ASSAULT_RATE_2019', 'reg_2019', 'NBHDNo'], axis=1)\n",
    "X = sm.add_constant(X)\n",
    "\n",
    "model_visits_2019 = sm.OLS(y.astype(float), X.astype(float))\n",
    "results_2019 = model_visits_2019.fit()\n",
    "print(results_2019.summary())"
   ]
  },
  {
   "cell_type": "code",
   "execution_count": 23,
   "id": "adb6c1c7-2b0c-4b13-8340-49c5a1dd4d3c",
   "metadata": {
    "tags": []
   },
   "outputs": [
    {
     "name": "stdout",
     "output_type": "stream",
     "text": [
      "                            OLS Regression Results                            \n",
      "==============================================================================\n",
      "Dep. Variable:            visits_2019   R-squared:                       0.960\n",
      "Model:                            OLS   Adj. R-squared:                  0.959\n",
      "Method:                 Least Squares   F-statistic:                     520.9\n",
      "Date:                Sun, 28 Jan 2024   Prob (F-statistic):          8.03e-102\n",
      "Time:                        02:16:44   Log-Likelihood:                -1896.3\n",
      "No. Observations:                 158   AIC:                             3809.\n",
      "Df Residuals:                     150   BIC:                             3833.\n",
      "Df Model:                           7                                         \n",
      "Covariance Type:            nonrobust                                         \n",
      "========================================================================================\n",
      "                           coef    std err          t      P>|t|      [0.025      0.975]\n",
      "----------------------------------------------------------------------------------------\n",
      "const                -2171.2312   7538.513     -0.288      0.774   -1.71e+04    1.27e+04\n",
      "No_of_Workstations    1371.2508    687.091      1.996      0.048      13.625    2728.877\n",
      "No_of_Programs       -8769.5550   2956.460     -2.966      0.004   -1.46e+04   -2927.870\n",
      "circ_2019                0.1663      0.034      4.931      0.000       0.100       0.233\n",
      "wrkstn_use_2019          3.0451      0.355      8.585      0.000       2.344       3.746\n",
      "AUTOTHEFT_RATE_2019     19.1304     22.399      0.854      0.394     -25.129      63.390\n",
      "BREAKENTER_RATE_2019    19.8451     15.949      1.244      0.215     -11.669      51.359\n",
      "SHOOTING_RATE_2019    -286.4430    186.324     -1.537      0.126    -654.601      81.715\n",
      "==============================================================================\n",
      "Omnibus:                       80.114   Durbin-Watson:                   2.001\n",
      "Prob(Omnibus):                  0.000   Jarque-Bera (JB):              730.613\n",
      "Skew:                           1.573   Prob(JB):                    2.24e-159\n",
      "Kurtosis:                      13.054   Cond. No.                     5.38e+05\n",
      "==============================================================================\n",
      "\n",
      "Notes:\n",
      "[1] Standard Errors assume that the covariance matrix of the errors is correctly specified.\n",
      "[2] The condition number is large, 5.38e+05. This might indicate that there are\n",
      "strong multicollinearity or other numerical problems.\n"
     ]
    }
   ],
   "source": [
    "y = model_2019['visits_2019']\n",
    "X = model_2019.drop(['visits_2019', 'THEFTOVER_RATE_2019', 'Participation rate', 'Unemployment rate', 'HOMICIDE_RATE_2019', 'Median total income of private household in 2020 ($)', \n",
    "                     'Median total income of economic family in 2020 ($)', 'Employment rate', 'No certificate, diploma or degree (%)', 'High (secondary) school diploma or equivalency certificate (%)',\n",
    "                    'Postsecondary certificate, diploma or degree (%)', 'No_of_Branches', 'THEFTFROMMV_RATE_2019', 'BIKETHEFT_RATE_2019', 'ASSAULT_RATE_2019', 'reg_2019', 'NBHDNo', 'ROBBERY_RATE_2019'], axis=1)\n",
    "X = sm.add_constant(X)\n",
    "\n",
    "model_visits_2019 = sm.OLS(y.astype(float), X.astype(float))\n",
    "results_2019 = model_visits_2019.fit()\n",
    "print(results_2019.summary())"
   ]
  },
  {
   "cell_type": "code",
   "execution_count": 24,
   "id": "55a5d2b7-f5bb-491d-b688-785d4586ec4e",
   "metadata": {
    "tags": []
   },
   "outputs": [
    {
     "name": "stdout",
     "output_type": "stream",
     "text": [
      "                            OLS Regression Results                            \n",
      "==============================================================================\n",
      "Dep. Variable:            visits_2019   R-squared:                       0.960\n",
      "Model:                            OLS   Adj. R-squared:                  0.959\n",
      "Method:                 Least Squares   F-statistic:                     608.6\n",
      "Date:                Sun, 28 Jan 2024   Prob (F-statistic):          4.48e-103\n",
      "Time:                        02:17:07   Log-Likelihood:                -1896.7\n",
      "No. Observations:                 158   AIC:                             3807.\n",
      "Df Residuals:                     151   BIC:                             3829.\n",
      "Df Model:                           6                                         \n",
      "Covariance Type:            nonrobust                                         \n",
      "========================================================================================\n",
      "                           coef    std err          t      P>|t|      [0.025      0.975]\n",
      "----------------------------------------------------------------------------------------\n",
      "const                 -204.7337   7171.832     -0.029      0.977   -1.44e+04     1.4e+04\n",
      "No_of_Workstations    1432.0990    682.774      2.097      0.038      83.075    2781.123\n",
      "No_of_Programs       -9002.4517   2941.218     -3.061      0.003   -1.48e+04   -3191.196\n",
      "circ_2019                0.1673      0.034      4.967      0.000       0.101       0.234\n",
      "wrkstn_use_2019          3.0175      0.353      8.550      0.000       2.320       3.715\n",
      "BREAKENTER_RATE_2019    21.4320     15.826      1.354      0.178      -9.837      52.701\n",
      "SHOOTING_RATE_2019    -228.7658    173.499     -1.319      0.189    -571.565     114.033\n",
      "==============================================================================\n",
      "Omnibus:                       79.416   Durbin-Watson:                   2.002\n",
      "Prob(Omnibus):                  0.000   Jarque-Bera (JB):              723.212\n",
      "Skew:                           1.555   Prob(JB):                    9.05e-158\n",
      "Kurtosis:                      13.009   Cond. No.                     5.13e+05\n",
      "==============================================================================\n",
      "\n",
      "Notes:\n",
      "[1] Standard Errors assume that the covariance matrix of the errors is correctly specified.\n",
      "[2] The condition number is large, 5.13e+05. This might indicate that there are\n",
      "strong multicollinearity or other numerical problems.\n"
     ]
    }
   ],
   "source": [
    "y = model_2019['visits_2019']\n",
    "X = model_2019.drop(['visits_2019', 'THEFTOVER_RATE_2019', 'Participation rate', 'Unemployment rate', 'HOMICIDE_RATE_2019', 'Median total income of private household in 2020 ($)', \n",
    "                     'Median total income of economic family in 2020 ($)', 'Employment rate', 'No certificate, diploma or degree (%)', 'High (secondary) school diploma or equivalency certificate (%)',\n",
    "                    'Postsecondary certificate, diploma or degree (%)', 'No_of_Branches', 'THEFTFROMMV_RATE_2019', 'BIKETHEFT_RATE_2019', 'ASSAULT_RATE_2019', 'reg_2019', 'NBHDNo', 'ROBBERY_RATE_2019',\n",
    "                    'AUTOTHEFT_RATE_2019'], axis=1)\n",
    "X = sm.add_constant(X)\n",
    "\n",
    "model_visits_2019 = sm.OLS(y.astype(float), X.astype(float))\n",
    "results_2019 = model_visits_2019.fit()\n",
    "print(results_2019.summary())"
   ]
  },
  {
   "cell_type": "code",
   "execution_count": 25,
   "id": "2036445f-dafd-4a7f-b79e-5e717e8942e1",
   "metadata": {
    "tags": []
   },
   "outputs": [
    {
     "name": "stdout",
     "output_type": "stream",
     "text": [
      "                            OLS Regression Results                            \n",
      "==============================================================================\n",
      "Dep. Variable:            visits_2019   R-squared:                       0.960\n",
      "Model:                            OLS   Adj. R-squared:                  0.959\n",
      "Method:                 Least Squares   F-statistic:                     726.5\n",
      "Date:                Sun, 28 Jan 2024   Prob (F-statistic):          3.74e-104\n",
      "Time:                        02:17:32   Log-Likelihood:                -1897.6\n",
      "No. Observations:                 158   AIC:                             3807.\n",
      "Df Residuals:                     152   BIC:                             3826.\n",
      "Df Model:                           5                                         \n",
      "Covariance Type:            nonrobust                                         \n",
      "========================================================================================\n",
      "                           coef    std err          t      P>|t|      [0.025      0.975]\n",
      "----------------------------------------------------------------------------------------\n",
      "const                -4400.4649   6442.839     -0.683      0.496   -1.71e+04    8328.614\n",
      "No_of_Workstations    1411.5205    684.252      2.063      0.041      59.648    2763.393\n",
      "No_of_Programs       -1.015e+04   2816.872     -3.602      0.000   -1.57e+04   -4582.383\n",
      "circ_2019                0.1777      0.033      5.411      0.000       0.113       0.243\n",
      "wrkstn_use_2019          3.0229      0.354      8.546      0.000       2.324       3.722\n",
      "BREAKENTER_RATE_2019    21.0722     15.862      1.328      0.186     -10.267      52.411\n",
      "==============================================================================\n",
      "Omnibus:                       76.731   Durbin-Watson:                   2.008\n",
      "Prob(Omnibus):                  0.000   Jarque-Bera (JB):              657.530\n",
      "Skew:                           1.508   Prob(JB):                    1.66e-143\n",
      "Kurtosis:                      12.528   Cond. No.                     4.60e+05\n",
      "==============================================================================\n",
      "\n",
      "Notes:\n",
      "[1] Standard Errors assume that the covariance matrix of the errors is correctly specified.\n",
      "[2] The condition number is large, 4.6e+05. This might indicate that there are\n",
      "strong multicollinearity or other numerical problems.\n"
     ]
    }
   ],
   "source": [
    "y = model_2019['visits_2019']\n",
    "X = model_2019.drop(['visits_2019', 'THEFTOVER_RATE_2019', 'Participation rate', 'Unemployment rate', 'HOMICIDE_RATE_2019', 'Median total income of private household in 2020 ($)', \n",
    "                     'Median total income of economic family in 2020 ($)', 'Employment rate', 'No certificate, diploma or degree (%)', 'High (secondary) school diploma or equivalency certificate (%)',\n",
    "                    'Postsecondary certificate, diploma or degree (%)', 'No_of_Branches', 'THEFTFROMMV_RATE_2019', 'BIKETHEFT_RATE_2019', 'ASSAULT_RATE_2019', 'reg_2019', 'NBHDNo', 'ROBBERY_RATE_2019',\n",
    "                    'AUTOTHEFT_RATE_2019', 'SHOOTING_RATE_2019'], axis=1)\n",
    "X = sm.add_constant(X)\n",
    "\n",
    "model_visits_2019 = sm.OLS(y.astype(float), X.astype(float))\n",
    "results_2019 = model_visits_2019.fit()\n",
    "print(results_2019.summary())"
   ]
  },
  {
   "cell_type": "code",
   "execution_count": 26,
   "id": "bb17fc18-963c-4b73-92c0-a280342889c6",
   "metadata": {
    "tags": []
   },
   "outputs": [
    {
     "name": "stdout",
     "output_type": "stream",
     "text": [
      "                            OLS Regression Results                            \n",
      "==============================================================================\n",
      "Dep. Variable:            visits_2019   R-squared:                       0.959\n",
      "Model:                            OLS   Adj. R-squared:                  0.958\n",
      "Method:                 Least Squares   F-statistic:                     903.2\n",
      "Date:                Sun, 28 Jan 2024   Prob (F-statistic):          2.81e-105\n",
      "Time:                        02:17:55   Log-Likelihood:                -1898.5\n",
      "No. Observations:                 158   AIC:                             3807.\n",
      "Df Residuals:                     153   BIC:                             3822.\n",
      "Df Model:                           4                                         \n",
      "Covariance Type:            nonrobust                                         \n",
      "======================================================================================\n",
      "                         coef    std err          t      P>|t|      [0.025      0.975]\n",
      "--------------------------------------------------------------------------------------\n",
      "const               2143.7367   4162.808      0.515      0.607   -6080.266    1.04e+04\n",
      "No_of_Workstations  1189.7082    665.224      1.788      0.076    -124.501    2503.918\n",
      "No_of_Programs     -1.055e+04   2807.730     -3.757      0.000   -1.61e+04   -5000.669\n",
      "circ_2019              0.1717      0.033      5.266      0.000       0.107       0.236\n",
      "wrkstn_use_2019        3.1531      0.341      9.254      0.000       2.480       3.826\n",
      "==============================================================================\n",
      "Omnibus:                       72.911   Durbin-Watson:                   2.020\n",
      "Prob(Omnibus):                  0.000   Jarque-Bera (JB):              595.414\n",
      "Skew:                           1.426   Prob(JB):                    5.10e-130\n",
      "Kurtosis:                      12.072   Cond. No.                     2.96e+05\n",
      "==============================================================================\n",
      "\n",
      "Notes:\n",
      "[1] Standard Errors assume that the covariance matrix of the errors is correctly specified.\n",
      "[2] The condition number is large, 2.96e+05. This might indicate that there are\n",
      "strong multicollinearity or other numerical problems.\n"
     ]
    }
   ],
   "source": [
    "y = model_2019['visits_2019']\n",
    "X = model_2019.drop(['visits_2019', 'THEFTOVER_RATE_2019', 'Participation rate', 'Unemployment rate', 'HOMICIDE_RATE_2019', 'Median total income of private household in 2020 ($)', \n",
    "                     'Median total income of economic family in 2020 ($)', 'Employment rate', 'No certificate, diploma or degree (%)', 'High (secondary) school diploma or equivalency certificate (%)',\n",
    "                    'Postsecondary certificate, diploma or degree (%)', 'No_of_Branches', 'THEFTFROMMV_RATE_2019', 'BIKETHEFT_RATE_2019', 'ASSAULT_RATE_2019', 'reg_2019', 'NBHDNo', 'ROBBERY_RATE_2019',\n",
    "                    'AUTOTHEFT_RATE_2019', 'SHOOTING_RATE_2019', 'BREAKENTER_RATE_2019'], axis=1)\n",
    "X = sm.add_constant(X)\n",
    "\n",
    "model_visits_2019 = sm.OLS(y.astype(float), X.astype(float))\n",
    "results_2019 = model_visits_2019.fit()\n",
    "print(results_2019.summary())"
   ]
  },
  {
   "cell_type": "code",
   "execution_count": 27,
   "id": "d3e3cc66-872b-45d9-af3f-d85a6e59710d",
   "metadata": {
    "tags": []
   },
   "outputs": [
    {
     "name": "stdout",
     "output_type": "stream",
     "text": [
      "                            OLS Regression Results                            \n",
      "==============================================================================\n",
      "Dep. Variable:            visits_2019   R-squared:                       0.959\n",
      "Model:                            OLS   Adj. R-squared:                  0.958\n",
      "Method:                 Least Squares   F-statistic:                     1186.\n",
      "Date:                Sun, 28 Jan 2024   Prob (F-statistic):          3.65e-106\n",
      "Time:                        02:18:40   Log-Likelihood:                -1900.1\n",
      "No. Observations:                 158   AIC:                             3808.\n",
      "Df Residuals:                     154   BIC:                             3821.\n",
      "Df Model:                           3                                         \n",
      "Covariance Type:            nonrobust                                         \n",
      "===================================================================================\n",
      "                      coef    std err          t      P>|t|      [0.025      0.975]\n",
      "-----------------------------------------------------------------------------------\n",
      "const            2857.1535   4173.123      0.685      0.495   -5386.801    1.11e+04\n",
      "No_of_Programs  -9831.1536   2798.771     -3.513      0.001   -1.54e+04   -4302.214\n",
      "circ_2019           0.1555      0.032      4.930      0.000       0.093       0.218\n",
      "wrkstn_use_2019     3.7261      0.117     31.909      0.000       3.495       3.957\n",
      "==============================================================================\n",
      "Omnibus:                       58.929   Durbin-Watson:                   2.011\n",
      "Prob(Omnibus):                  0.000   Jarque-Bera (JB):              394.422\n",
      "Skew:                           1.142   Prob(JB):                     2.25e-86\n",
      "Kurtosis:                      10.396   Cond. No.                     2.95e+05\n",
      "==============================================================================\n",
      "\n",
      "Notes:\n",
      "[1] Standard Errors assume that the covariance matrix of the errors is correctly specified.\n",
      "[2] The condition number is large, 2.95e+05. This might indicate that there are\n",
      "strong multicollinearity or other numerical problems.\n"
     ]
    }
   ],
   "source": [
    "y = model_2019['visits_2019']\n",
    "X = model_2019.drop(['visits_2019', 'THEFTOVER_RATE_2019', 'Participation rate', 'Unemployment rate', 'HOMICIDE_RATE_2019', 'Median total income of private household in 2020 ($)', \n",
    "                     'Median total income of economic family in 2020 ($)', 'Employment rate', 'No certificate, diploma or degree (%)', 'High (secondary) school diploma or equivalency certificate (%)',\n",
    "                    'Postsecondary certificate, diploma or degree (%)', 'No_of_Branches', 'THEFTFROMMV_RATE_2019', 'BIKETHEFT_RATE_2019', 'ASSAULT_RATE_2019', 'reg_2019', 'NBHDNo', 'ROBBERY_RATE_2019',\n",
    "                    'AUTOTHEFT_RATE_2019', 'SHOOTING_RATE_2019', 'BREAKENTER_RATE_2019', 'No_of_Workstations'], axis=1)\n",
    "X = sm.add_constant(X)\n",
    "\n",
    "model_visits_2019 = sm.OLS(y.astype(float), X.astype(float))\n",
    "results_2019 = model_visits_2019.fit()\n",
    "print(results_2019.summary())"
   ]
  },
  {
   "cell_type": "code",
   "execution_count": 28,
   "id": "fdc6b063-ea35-48ff-aba6-542468f3dc02",
   "metadata": {
    "tags": []
   },
   "outputs": [
    {
     "name": "stdout",
     "output_type": "stream",
     "text": [
      "<class 'pandas.core.frame.DataFrame'>\n",
      "RangeIndex: 158 entries, 0 to 157\n",
      "Data columns (total 4 columns):\n",
      " #   Column           Non-Null Count  Dtype\n",
      "---  ------           --------------  -----\n",
      " 0   No_of_Programs   158 non-null    int64\n",
      " 1   visits_2019      158 non-null    int64\n",
      " 2   circ_2019        158 non-null    int64\n",
      " 3   wrkstn_use_2019  158 non-null    int64\n",
      "dtypes: int64(4)\n",
      "memory usage: 5.1 KB\n"
     ]
    }
   ],
   "source": [
    "model_visual = nbhd_libr_crime_2019.copy()\n",
    "\n",
    "model_visual = model_visual.drop(['THEFTOVER_RATE_2019', 'Participation rate', 'Unemployment rate', 'HOMICIDE_RATE_2019', 'Median total income of private household in 2020 ($)', \n",
    "                     'Median total income of economic family in 2020 ($)', 'Employment rate', 'No certificate, diploma or degree (%)', 'High (secondary) school diploma or equivalency certificate (%)',\n",
    "                    'Postsecondary certificate, diploma or degree (%)', 'No_of_Branches', 'THEFTFROMMV_RATE_2019', 'BIKETHEFT_RATE_2019', 'ASSAULT_RATE_2019', 'reg_2019', 'NBHDNo', 'ROBBERY_RATE_2019',\n",
    "                    'AUTOTHEFT_RATE_2019', 'SHOOTING_RATE_2019', 'BREAKENTER_RATE_2019', 'No_of_Workstations'], axis=1)\n",
    "\n",
    "model_visual.info()"
   ]
  },
  {
   "cell_type": "code",
   "execution_count": 29,
   "id": "494849b2-ae76-4b1d-9ab6-cdc5f4328b42",
   "metadata": {
    "tags": []
   },
   "outputs": [
    {
     "name": "stderr",
     "output_type": "stream",
     "text": [
      "C:\\Users\\Sonia\\anaconda3\\Lib\\site-packages\\seaborn\\axisgrid.py:118: UserWarning: The figure layout has changed to tight\n",
      "  self._figure.tight_layout(*args, **kwargs)\n"
     ]
    },
    {
     "data": {
      "image/png": "[encoded data removed]",
      "text/plain": [
       "<Figure size 1000x1000 with 20 Axes>"
      ]
     },
     "metadata": {},
     "output_type": "display_data"
    }
   ],
   "source": [
    "sns.set(style=\"ticks\", color_codes=True)\n",
    "sns.pairplot(model_visual, diag_kind=\"kde\", vars=['No_of_Programs', 'visits_2019', 'circ_2019', 'wrkstn_use_2019'])\n",
    "#plt.savefig('../images/pairplotfs.png', dpi=300, bbox_inches='tight')\n",
    "plt.show()"
   ]
  },
  {
   "cell_type": "code",
   "execution_count": null,
   "id": "4579a656-5fd3-47bc-99ce-ab90659079b1",
   "metadata": {},
   "outputs": [],
   "source": []
  }
 ],
 "metadata": {
  "kernelspec": {
   "display_name": "Python 3 (ipykernel)",
   "language": "python",
   "name": "python3"
  },
  "language_info": {
   "codemirror_mode": {
    "name": "ipython",
    "version": 3
   },
   "file_extension": ".py",
   "mimetype": "text/x-python",
   "name": "python",
   "nbconvert_exporter": "python",
   "pygments_lexer": "ipython3",
   "version": "3.11.5"
  }
 },
 "nbformat": 4,
 "nbformat_minor": 5
}
